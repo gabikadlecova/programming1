{
 "cells": [
  {
   "cell_type": "code",
   "execution_count": 48,
   "id": "b88882a4",
   "metadata": {},
   "outputs": [],
   "source": [
    "class BinarySearchNode:\n",
    "    def __init__(self, val):\n",
    "        self.val = val\n",
    "        self.left = None\n",
    "        self.right = None\n",
    "        \n",
    "    def __str__(self):\n",
    "        return str(self.val)\n",
    "    \n",
    "    def print_inorder(self):\n",
    "        strings = []\n",
    "        \n",
    "        # left subtree\n",
    "        if self.left is not None:\n",
    "            strings.append(self.left.print_inorder())\n",
    "        \n",
    "        # parent\n",
    "        strings.append(str(self))\n",
    "        \n",
    "        # right subtree\n",
    "        if self.right is not None:\n",
    "            strings.append(self.right.print_inorder())\n",
    "            \n",
    "        # join the string representations\n",
    "        return \", \".join(strings)\n",
    "    \n",
    "    # TODO implement level counter i (depth)\n",
    "    def print_preorder(self):\n",
    "        strings = []\n",
    "        \n",
    "        strings.append(str(self))\n",
    "        \n",
    "        # left subtree\n",
    "        if self.left is not None:\n",
    "            strings.append(self.left.print_preorder())\n",
    "        \n",
    "        # right subtree\n",
    "        if self.right is not None:\n",
    "            strings.append(self.right.print_preorder())\n",
    "            \n",
    "        # join the string representations\n",
    "        return \", \".join(strings)\n",
    "    \n",
    "    def print_postorder(self):\n",
    "        # TODO\n",
    "        pass"
   ]
  },
  {
   "cell_type": "code",
   "execution_count": 49,
   "id": "3f77b7af",
   "metadata": {},
   "outputs": [],
   "source": [
    "class BinarySearchTree:\n",
    "    def __init__(self, root=None):\n",
    "        self.root = root\n",
    "        \n",
    "    def add_node(self, node):\n",
    "        # this function works both for BinarySearchNode and values\n",
    "        if not isinstance(node, BinarySearchNode):\n",
    "            node = BinarySearchNode(node)\n",
    "        \n",
    "        if self.root is None:\n",
    "            self.root = node\n",
    "            return\n",
    "        \n",
    "        curr = self.root\n",
    "        while True:\n",
    "            # we need to save this so that we know where to add the node\n",
    "            next_left = curr.val > node.val\n",
    "            \n",
    "            # this is the same as:\n",
    "            # if next_left:\n",
    "            #    next = curr.left\n",
    "            # else:\n",
    "            #    next = curr.right\n",
    "            next_node = curr.left if next_left else curr.right\n",
    "            \n",
    "            if next_node is None:\n",
    "                if next_left:\n",
    "                    curr.left = node\n",
    "                else:\n",
    "                    curr.right = node\n",
    "                return\n",
    "            \n",
    "            curr = next_node\n",
    "            \n",
    "    def __str__(self):\n",
    "        # BinarySearchTree.print_inorder(self) if the same as self.print_inorder() !\n",
    "        return BinarySearchTree.print_inorder(self) if self.root is not None else \"\"\n",
    "    \n",
    "    def print_postorder(self):\n",
    "        return self.root.print_postorder()\n",
    "    \n",
    "    def print_inorder(self):\n",
    "        return self.root.print_inorder()\n",
    "        \n",
    "    def print_preorder(self):\n",
    "        return self.root.print_preorder()"
   ]
  },
  {
   "cell_type": "code",
   "execution_count": 50,
   "id": "7441a161",
   "metadata": {},
   "outputs": [
    {
     "name": "stdout",
     "output_type": "stream",
     "text": [
      "['Alexander', 'Alphabet', 'Binary search tree', 'Coffee', 'Kernel', 'Kitten']\n",
      "Alphabet, Binary search tree, Coffee, Kitten, alexander, kernel\n"
     ]
    }
   ],
   "source": [
    "# lexicographic sort\n",
    "print(sorted([\"Alphabet\", \"Kitten\",\"Alexander\", \"Kernel\", \"Coffee\", \"Binary search tree\"]))\n",
    "\n",
    "bvs = BinarySearchTree()\n",
    "bvs.add_node(\"Alphabet\")\n",
    "bvs.add_node(\"Kitten\")\n",
    "bvs.add_node(\"alexander\")\n",
    "bvs.add_node(\"kernel\")\n",
    "bvs.add_node(\"Coffee\")\n",
    "bvs.add_node(\"Binary search tree\")\n",
    "print(bvs)"
   ]
  },
  {
   "cell_type": "code",
   "execution_count": 62,
   "id": "4af8cc9e",
   "metadata": {},
   "outputs": [
    {
     "name": "stdout",
     "output_type": "stream",
     "text": [
      "0.11133106816568039\n"
     ]
    },
    {
     "data": {
      "text/plain": [
       "4"
      ]
     },
     "execution_count": 62,
     "metadata": {},
     "output_type": "execute_result"
    }
   ],
   "source": [
    "import random\n",
    "\n",
    "print(random.random())  # float\n",
    "random.randint(2,6)  # int (attention, the upper bound is INCLUSIVE)"
   ]
  },
  {
   "cell_type": "code",
   "execution_count": 61,
   "id": "65cce040",
   "metadata": {},
   "outputs": [
    {
     "data": {
      "text/plain": [
       "163"
      ]
     },
     "execution_count": 61,
     "metadata": {},
     "output_type": "execute_result"
    }
   ],
   "source": [
    "# seed ... the same result every time\n",
    "# initializes random generator, the calls are deterministic (the same return value every time)\n",
    "random.seed(42)\n",
    "\n",
    "random.randint(0, 200)"
   ]
  },
  {
   "cell_type": "code",
   "execution_count": 72,
   "id": "ed589b23",
   "metadata": {},
   "outputs": [
    {
     "name": "stdout",
     "output_type": "stream",
     "text": [
      "12\n",
      "3, 9, 11, 12, 13, 14, 15, 17, 18, 19\n"
     ]
    }
   ],
   "source": [
    "import random\n",
    "\n",
    "random.seed(47)  # 43 is a kinda degenerate tree\n",
    "nums = [random.randint(1, 20) for _ in range(10)]\n",
    "\n",
    "bvs = BinarySearchTree()\n",
    "\n",
    "for n in nums:\n",
    "    bvs.add_node(n)\n",
    "\n",
    "print(bvs.root)\n",
    "print(bvs)"
   ]
  },
  {
   "cell_type": "code",
   "execution_count": 75,
   "id": "3501d753",
   "metadata": {},
   "outputs": [
    {
     "data": {
      "text/plain": [
       "'12, 3, 11, 9, 14, 13, 18, 15, 17, 19'"
      ]
     },
     "execution_count": 75,
     "metadata": {},
     "output_type": "execute_result"
    }
   ],
   "source": [
    "pre = bvs.print_preorder()\n",
    "pre"
   ]
  },
  {
   "cell_type": "code",
   "execution_count": null,
   "id": "8e09ae87",
   "metadata": {},
   "outputs": [],
   "source": []
  }
 ],
 "metadata": {
  "kernelspec": {
   "display_name": "Python 3 (ipykernel)",
   "language": "python",
   "name": "python3"
  },
  "language_info": {
   "codemirror_mode": {
    "name": "ipython",
    "version": 3
   },
   "file_extension": ".py",
   "mimetype": "text/x-python",
   "name": "python",
   "nbconvert_exporter": "python",
   "pygments_lexer": "ipython3",
   "version": "3.8.10"
  }
 },
 "nbformat": 4,
 "nbformat_minor": 5
}
