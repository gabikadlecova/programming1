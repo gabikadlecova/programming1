{
 "cells": [
  {
   "cell_type": "code",
   "execution_count": 35,
   "id": "40c39334",
   "metadata": {},
   "outputs": [],
   "source": [
    "class SomeNums:\n",
    "    def __init__(self, val_1, val_2):\n",
    "        self.vals = (val_1, val_2)\n",
    "        \n",
    "    # for easy addition\n",
    "    def __add__(self, other_val):\n",
    "        # int is valid\n",
    "        if isinstance(other_val, int):\n",
    "            other_val = SomeNums(other_val, other_val)\n",
    "            \n",
    "        # something else is not valid\n",
    "        if not isinstance(other_val, SomeNums):\n",
    "            \n",
    "            # signal a serious error\n",
    "            raise ValueError(\"Invalid input to SomeNums.__add__.\")\n",
    "        \n",
    "        return self.vals[0] + other_val.vals[0], self.vals[1] + other_val.vals[1]\n",
    "    \n",
    "    def __str__(self):\n",
    "        # Informal, readable, for users\n",
    "        return \"Our tuple: \" + str(self.vals)\n",
    "    \n",
    "    def __repr__(self):\n",
    "        # Formal - debugging output, info useful to the programmer\n",
    "        return repr(self.vals)\n",
    "    \n",
    "    # other include __sub__, __mul__, __truediv__ ... a / b, __floordiv__ ... a // b"
   ]
  },
  {
   "cell_type": "code",
   "execution_count": 36,
   "id": "f8980e39",
   "metadata": {},
   "outputs": [
    {
     "data": {
      "text/plain": [
       "2"
      ]
     },
     "execution_count": 36,
     "metadata": {},
     "output_type": "execute_result"
    }
   ],
   "source": [
    "# this syntax is explained below. It calls a method using the name of the class\n",
    "int.__floordiv__(5, 2)"
   ]
  },
  {
   "cell_type": "code",
   "execution_count": 37,
   "id": "b4a00c1f",
   "metadata": {},
   "outputs": [
    {
     "data": {
      "text/plain": [
       "2.5"
      ]
     },
     "execution_count": 37,
     "metadata": {},
     "output_type": "execute_result"
    }
   ],
   "source": [
    "int.__truediv__(5, 2)"
   ]
  },
  {
   "cell_type": "code",
   "execution_count": 38,
   "id": "4638a560",
   "metadata": {},
   "outputs": [
    {
     "data": {
      "text/plain": [
       "(10, 20)"
      ]
     },
     "execution_count": 38,
     "metadata": {},
     "output_type": "execute_result"
    }
   ],
   "source": [
    "num = SomeNums(10, 20)\n",
    "num"
   ]
  },
  {
   "cell_type": "code",
   "execution_count": 39,
   "id": "79920b50",
   "metadata": {},
   "outputs": [
    {
     "name": "stdout",
     "output_type": "stream",
     "text": [
      "Our tuple: (10, 20)\n"
     ]
    }
   ],
   "source": [
    "print(num)"
   ]
  },
  {
   "cell_type": "code",
   "execution_count": 40,
   "id": "30f6e43c",
   "metadata": {},
   "outputs": [
    {
     "name": "stdout",
     "output_type": "stream",
     "text": [
      "(15, 25)\n"
     ]
    }
   ],
   "source": [
    "print(num + 5)"
   ]
  },
  {
   "cell_type": "code",
   "execution_count": 42,
   "id": "0a711454",
   "metadata": {},
   "outputs": [
    {
     "name": "stdout",
     "output_type": "stream",
     "text": [
      "(60, 21)\n"
     ]
    }
   ],
   "source": [
    "num_2 = SomeNums(50, 1)\n",
    "print(num + num_2)"
   ]
  },
  {
   "cell_type": "code",
   "execution_count": 43,
   "id": "9a30b9e4",
   "metadata": {},
   "outputs": [
    {
     "ename": "TypeError",
     "evalue": "can only concatenate tuple (not \"int\") to tuple",
     "output_type": "error",
     "traceback": [
      "\u001b[0;31m---------------------------------------------------------------------------\u001b[0m",
      "\u001b[0;31mTypeError\u001b[0m                                 Traceback (most recent call last)",
      "\u001b[0;32m/tmp/ipykernel_289/3976474656.py\u001b[0m in \u001b[0;36m<module>\u001b[0;34m\u001b[0m\n\u001b[1;32m      1\u001b[0m \u001b[0mres\u001b[0m \u001b[0;34m=\u001b[0m \u001b[0mnum\u001b[0m \u001b[0;34m+\u001b[0m \u001b[0mnum_2\u001b[0m\u001b[0;34m\u001b[0m\u001b[0;34m\u001b[0m\u001b[0m\n\u001b[0;32m----> 2\u001b[0;31m \u001b[0mres\u001b[0m \u001b[0;34m+\u001b[0m \u001b[0;36m2\u001b[0m\u001b[0;34m\u001b[0m\u001b[0;34m\u001b[0m\u001b[0m\n\u001b[0m",
      "\u001b[0;31mTypeError\u001b[0m: can only concatenate tuple (not \"int\") to tuple"
     ]
    }
   ],
   "source": [
    "# Can you guess why there is an error?\n",
    "# Hint: look at what the function returns and what type it is\n",
    "res = num + num_2\n",
    "res + 2"
   ]
  },
  {
   "cell_type": "code",
   "execution_count": 19,
   "id": "424b64c3",
   "metadata": {},
   "outputs": [
    {
     "name": "stdout",
     "output_type": "stream",
     "text": [
      "Invalid input to SomeNums.__add__.\n"
     ]
    },
    {
     "ename": "ValueError",
     "evalue": "Invalid input to SomeNums.__add__.",
     "output_type": "error",
     "traceback": [
      "\u001b[0;31m---------------------------------------------------------------------------\u001b[0m",
      "\u001b[0;31mValueError\u001b[0m                                Traceback (most recent call last)",
      "\u001b[0;32m/tmp/ipykernel_289/3700899887.py\u001b[0m in \u001b[0;36m<module>\u001b[0;34m\u001b[0m\n\u001b[1;32m      1\u001b[0m \u001b[0;32mtry\u001b[0m\u001b[0;34m:\u001b[0m\u001b[0;34m\u001b[0m\u001b[0;34m\u001b[0m\u001b[0m\n\u001b[0;32m----> 2\u001b[0;31m     \u001b[0mnum\u001b[0m \u001b[0;34m+\u001b[0m \u001b[0;34m\"sth\"\u001b[0m\u001b[0;34m\u001b[0m\u001b[0;34m\u001b[0m\u001b[0m\n\u001b[0m\u001b[1;32m      3\u001b[0m \u001b[0;34m\u001b[0m\u001b[0m\n\u001b[1;32m      4\u001b[0m \u001b[0;32mexcept\u001b[0m \u001b[0mValueError\u001b[0m \u001b[0;32mas\u001b[0m \u001b[0me\u001b[0m\u001b[0;34m:\u001b[0m\u001b[0;34m\u001b[0m\u001b[0;34m\u001b[0m\u001b[0m\n\u001b[1;32m      5\u001b[0m     \u001b[0mprint\u001b[0m\u001b[0;34m(\u001b[0m\u001b[0me\u001b[0m\u001b[0;34m)\u001b[0m\u001b[0;34m\u001b[0m\u001b[0;34m\u001b[0m\u001b[0m\n",
      "\u001b[0;32m/tmp/ipykernel_289/1005163851.py\u001b[0m in \u001b[0;36m__add__\u001b[0;34m(self, other_val)\u001b[0m\n\u001b[1;32m      8\u001b[0m \u001b[0;34m\u001b[0m\u001b[0m\n\u001b[1;32m      9\u001b[0m         \u001b[0;32mif\u001b[0m \u001b[0;32mnot\u001b[0m \u001b[0misinstance\u001b[0m\u001b[0;34m(\u001b[0m\u001b[0mother_val\u001b[0m\u001b[0;34m,\u001b[0m \u001b[0mSomeNums\u001b[0m\u001b[0;34m)\u001b[0m\u001b[0;34m:\u001b[0m\u001b[0;34m\u001b[0m\u001b[0;34m\u001b[0m\u001b[0m\n\u001b[0;32m---> 10\u001b[0;31m             \u001b[0;32mraise\u001b[0m \u001b[0mValueError\u001b[0m\u001b[0;34m(\u001b[0m\u001b[0;34m\"Invalid input to SomeNums.__add__.\"\u001b[0m\u001b[0;34m)\u001b[0m\u001b[0;34m\u001b[0m\u001b[0;34m\u001b[0m\u001b[0m\n\u001b[0m\u001b[1;32m     11\u001b[0m \u001b[0;34m\u001b[0m\u001b[0m\n\u001b[1;32m     12\u001b[0m         \u001b[0;32mreturn\u001b[0m \u001b[0mself\u001b[0m\u001b[0;34m.\u001b[0m\u001b[0mvals\u001b[0m\u001b[0;34m[\u001b[0m\u001b[0;36m0\u001b[0m\u001b[0;34m]\u001b[0m \u001b[0;34m+\u001b[0m \u001b[0mother_val_1\u001b[0m\u001b[0;34m,\u001b[0m \u001b[0mself\u001b[0m\u001b[0;34m.\u001b[0m\u001b[0mvals\u001b[0m\u001b[0;34m[\u001b[0m\u001b[0;36m1\u001b[0m\u001b[0;34m]\u001b[0m \u001b[0;34m+\u001b[0m \u001b[0mother_val_2\u001b[0m\u001b[0;34m\u001b[0m\u001b[0;34m\u001b[0m\u001b[0m\n",
      "\u001b[0;31mValueError\u001b[0m: Invalid input to SomeNums.__add__."
     ]
    }
   ],
   "source": [
    "# exceptions should be used to handle errors in the program\n",
    "try:\n",
    "    num + \"sth\"\n",
    "\n",
    "except ValueError as e:\n",
    "    # we can handle specific errors, e.g. print it, close open files etc.\n",
    "    print(e)\n",
    "    raise"
   ]
  },
  {
   "cell_type": "code",
   "execution_count": null,
   "id": "8f57d9e9",
   "metadata": {},
   "outputs": [],
   "source": []
  },
  {
   "cell_type": "code",
   "execution_count": 44,
   "id": "592b4c0c",
   "metadata": {},
   "outputs": [
    {
     "name": "stdout",
     "output_type": "stream",
     "text": [
      "1 4\n",
      "2 5\n",
      "3 6\n"
     ]
    }
   ],
   "source": [
    "# other useful concept: zip\n",
    "\n",
    "list_1 = [1, 2, 3]\n",
    "list_2 = [4, 5, 6]\n",
    "\n",
    "for v_1, v_2 in zip(list_1, list_2):\n",
    "    print(v_1, v_2)"
   ]
  },
  {
   "cell_type": "code",
   "execution_count": 45,
   "id": "aa25fd8b",
   "metadata": {},
   "outputs": [
    {
     "name": "stdout",
     "output_type": "stream",
     "text": [
      "1 1\n",
      "2 2\n"
     ]
    }
   ],
   "source": [
    "# beware of different lengths\n",
    "a = [1, 2]\n",
    "b = [1, 2, 3, 4, 5]\n",
    "\n",
    "for v_1, v_2 in zip(a, b):\n",
    "    print(v_1, v_2)"
   ]
  },
  {
   "cell_type": "markdown",
   "id": "65b45c8d",
   "metadata": {},
   "source": [
    "https://docs.python.org/3/library/itertools.html"
   ]
  },
  {
   "cell_type": "code",
   "execution_count": 46,
   "id": "e6594a58",
   "metadata": {},
   "outputs": [
    {
     "name": "stdout",
     "output_type": "stream",
     "text": [
      "1 1\n",
      "2 2\n",
      "Nothing actually 3\n",
      "Nothing actually 4\n",
      "Nothing actually 5\n"
     ]
    }
   ],
   "source": [
    "# this and many other useful functions can be found in the itertools module\n",
    "\n",
    "import itertools\n",
    "\n",
    "for v_1, v_2 in itertools.zip_longest(a, b, fillvalue=\"Nothing actually\"):\n",
    "    print(v_1, v_2)"
   ]
  },
  {
   "cell_type": "code",
   "execution_count": 48,
   "id": "125935e6",
   "metadata": {},
   "outputs": [
    {
     "name": "stdout",
     "output_type": "stream",
     "text": [
      "[2, 4, 3, 4, 5]\n"
     ]
    }
   ],
   "source": [
    "# it simplifies code again\n",
    "sum_vals = [x + y for x, y in itertools.zip_longest(a, b, fillvalue=0)]\n",
    "print(sum_vals)"
   ]
  },
  {
   "cell_type": "code",
   "execution_count": 49,
   "id": "be499707",
   "metadata": {},
   "outputs": [
    {
     "name": "stdout",
     "output_type": "stream",
     "text": [
      "15\n",
      "[5, 4, 3, 2, 1]\n"
     ]
    }
   ],
   "source": [
    "# not sure if I showed this\n",
    "print(sum(b))\n",
    "print(sorted(b, reverse=True))"
   ]
  },
  {
   "cell_type": "code",
   "execution_count": null,
   "id": "9733d734",
   "metadata": {},
   "outputs": [],
   "source": []
  },
  {
   "cell_type": "code",
   "execution_count": 48,
   "id": "b88882a4",
   "metadata": {},
   "outputs": [],
   "source": [
    "class BinarySearchNode:\n",
    "    def __init__(self, val):\n",
    "        self.val = val\n",
    "        self.left = None\n",
    "        self.right = None\n",
    "        \n",
    "    def __str__(self):\n",
    "        return str(self.val)\n",
    "    \n",
    "    def print_inorder(self):\n",
    "        strings = []\n",
    "        \n",
    "        # left subtree\n",
    "        if self.left is not None:\n",
    "            strings.append(self.left.print_inorder())\n",
    "        \n",
    "        # parent\n",
    "        strings.append(str(self))\n",
    "        \n",
    "        # right subtree\n",
    "        if self.right is not None:\n",
    "            strings.append(self.right.print_inorder())\n",
    "            \n",
    "        # join the string representations\n",
    "        return \", \".join(strings)\n",
    "    \n",
    "    # TODO implement level counter i (depth)\n",
    "    def print_preorder(self):\n",
    "        strings = []\n",
    "        \n",
    "        strings.append(str(self))\n",
    "        \n",
    "        # left subtree\n",
    "        if self.left is not None:\n",
    "            strings.append(self.left.print_preorder())\n",
    "        \n",
    "        # right subtree\n",
    "        if self.right is not None:\n",
    "            strings.append(self.right.print_preorder())\n",
    "            \n",
    "        # join the string representations\n",
    "        return \", \".join(strings)\n",
    "    \n",
    "    def print_postorder(self):\n",
    "        # TODO\n",
    "        pass"
   ]
  },
  {
   "cell_type": "code",
   "execution_count": 49,
   "id": "3f77b7af",
   "metadata": {},
   "outputs": [],
   "source": [
    "class BinarySearchTree:\n",
    "    def __init__(self, root=None):\n",
    "        self.root = root\n",
    "        \n",
    "    def add_node(self, node):\n",
    "        # this function works both for BinarySearchNode and values\n",
    "        if not isinstance(node, BinarySearchNode):\n",
    "            node = BinarySearchNode(node)\n",
    "        \n",
    "        if self.root is None:\n",
    "            self.root = node\n",
    "            return\n",
    "        \n",
    "        curr = self.root\n",
    "        while True:\n",
    "            # we need to save this so that we know where to add the node\n",
    "            next_left = curr.val > node.val\n",
    "            \n",
    "            # this is the same as:\n",
    "            # if next_left:\n",
    "            #    next = curr.left\n",
    "            # else:\n",
    "            #    next = curr.right\n",
    "            next_node = curr.left if next_left else curr.right\n",
    "            \n",
    "            if next_node is None:\n",
    "                if next_left:\n",
    "                    curr.left = node\n",
    "                else:\n",
    "                    curr.right = node\n",
    "                return\n",
    "            \n",
    "            curr = next_node\n",
    "            \n",
    "    def __str__(self):\n",
    "        # BinarySearchTree.print_inorder(self) if the same as self.print_inorder() !\n",
    "        return BinarySearchTree.print_inorder(self) if self.root is not None else \"\"\n",
    "    \n",
    "    def print_postorder(self):\n",
    "        return self.root.print_postorder()\n",
    "    \n",
    "    def print_inorder(self):\n",
    "        return self.root.print_inorder()\n",
    "        \n",
    "    def print_preorder(self):\n",
    "        return self.root.print_preorder()"
   ]
  },
  {
   "cell_type": "code",
   "execution_count": 50,
   "id": "7441a161",
   "metadata": {},
   "outputs": [
    {
     "name": "stdout",
     "output_type": "stream",
     "text": [
      "['Alexander', 'Alphabet', 'Binary search tree', 'Coffee', 'Kernel', 'Kitten']\n",
      "Alphabet, Binary search tree, Coffee, Kitten, alexander, kernel\n"
     ]
    }
   ],
   "source": [
    "# lexicographic sort\n",
    "print(sorted([\"Alphabet\", \"Kitten\",\"Alexander\", \"Kernel\", \"Coffee\", \"Binary search tree\"]))\n",
    "\n",
    "bvs = BinarySearchTree()\n",
    "bvs.add_node(\"Alphabet\")\n",
    "bvs.add_node(\"Kitten\")\n",
    "bvs.add_node(\"alexander\")\n",
    "bvs.add_node(\"kernel\")\n",
    "bvs.add_node(\"Coffee\")\n",
    "bvs.add_node(\"Binary search tree\")\n",
    "print(bvs)"
   ]
  },
  {
   "cell_type": "code",
   "execution_count": 62,
   "id": "4af8cc9e",
   "metadata": {},
   "outputs": [
    {
     "name": "stdout",
     "output_type": "stream",
     "text": [
      "0.11133106816568039\n"
     ]
    },
    {
     "data": {
      "text/plain": [
       "4"
      ]
     },
     "execution_count": 62,
     "metadata": {},
     "output_type": "execute_result"
    }
   ],
   "source": [
    "import random\n",
    "\n",
    "print(random.random())  # float\n",
    "random.randint(2,6)  # int (attention, the upper bound is INCLUSIVE)"
   ]
  },
  {
   "cell_type": "code",
   "execution_count": 61,
   "id": "65cce040",
   "metadata": {},
   "outputs": [
    {
     "data": {
      "text/plain": [
       "163"
      ]
     },
     "execution_count": 61,
     "metadata": {},
     "output_type": "execute_result"
    }
   ],
   "source": [
    "# seed ... the same result every time\n",
    "# initializes random generator, the calls are deterministic (the same return value every time)\n",
    "random.seed(42)\n",
    "\n",
    "random.randint(0, 200)"
   ]
  },
  {
   "cell_type": "code",
   "execution_count": 72,
   "id": "ed589b23",
   "metadata": {},
   "outputs": [
    {
     "name": "stdout",
     "output_type": "stream",
     "text": [
      "12\n",
      "3, 9, 11, 12, 13, 14, 15, 17, 18, 19\n"
     ]
    }
   ],
   "source": [
    "import random\n",
    "\n",
    "random.seed(47)  # 43 is a kinda degenerate tree\n",
    "nums = [random.randint(1, 20) for _ in range(10)]\n",
    "\n",
    "bvs = BinarySearchTree()\n",
    "\n",
    "for n in nums:\n",
    "    bvs.add_node(n)\n",
    "\n",
    "print(bvs.root)\n",
    "print(bvs)"
   ]
  },
  {
   "cell_type": "code",
   "execution_count": 75,
   "id": "3501d753",
   "metadata": {},
   "outputs": [
    {
     "data": {
      "text/plain": [
       "'12, 3, 11, 9, 14, 13, 18, 15, 17, 19'"
      ]
     },
     "execution_count": 75,
     "metadata": {},
     "output_type": "execute_result"
    }
   ],
   "source": [
    "pre = bvs.print_preorder()\n",
    "pre"
   ]
  },
  {
   "cell_type": "code",
   "execution_count": null,
   "id": "8e09ae87",
   "metadata": {},
   "outputs": [],
   "source": []
  }
 ],
 "metadata": {
  "kernelspec": {
   "display_name": "Python 3 (ipykernel)",
   "language": "python",
   "name": "python3"
  },
  "language_info": {
   "codemirror_mode": {
    "name": "ipython",
    "version": 3
   },
   "file_extension": ".py",
   "mimetype": "text/x-python",
   "name": "python",
   "nbconvert_exporter": "python",
   "pygments_lexer": "ipython3",
   "version": "3.8.10"
  }
 },
 "nbformat": 4,
 "nbformat_minor": 5
}
