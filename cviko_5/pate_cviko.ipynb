{
  "nbformat": 4,
  "nbformat_minor": 0,
  "metadata": {
    "colab": {
      "name": "pate_cviko.ipynb",
      "provenance": [],
      "collapsed_sections": []
    },
    "kernelspec": {
      "name": "python3",
      "display_name": "Python 3"
    },
    "language_info": {
      "name": "python"
    }
  },
  "cells": [
    {
      "cell_type": "markdown",
      "metadata": {
        "id": "HVmtnyjgQ2UM"
      },
      "source": [
        "### Math functions"
      ]
    },
    {
      "cell_type": "code",
      "metadata": {
        "colab": {
          "base_uri": "https://localhost:8080/"
        },
        "id": "lAjXXyg0Q3uy",
        "outputId": "a2162717-41ff-4ac6-a20b-efe4a28e0d8a"
      },
      "source": [
        "import math\n",
        "\n",
        "math.sqrt(9)"
      ],
      "execution_count": null,
      "outputs": [
        {
          "output_type": "execute_result",
          "data": {
            "text/plain": [
              "3.0"
            ]
          },
          "metadata": {},
          "execution_count": 9
        }
      ]
    },
    {
      "cell_type": "code",
      "metadata": {
        "colab": {
          "base_uri": "https://localhost:8080/"
        },
        "id": "4zlUEjdoQ5oJ",
        "outputId": "1db01a4e-ea8c-48ea-e8e7-296132ec4f57"
      },
      "source": [
        "print(math.log2(2))\n",
        "math.log(2)"
      ],
      "execution_count": null,
      "outputs": [
        {
          "output_type": "stream",
          "name": "stdout",
          "text": [
            "1.0\n"
          ]
        },
        {
          "output_type": "execute_result",
          "data": {
            "text/plain": [
              "0.6931471805599453"
            ]
          },
          "metadata": {},
          "execution_count": 18
        }
      ]
    },
    {
      "cell_type": "code",
      "metadata": {
        "colab": {
          "base_uri": "https://localhost:8080/"
        },
        "id": "Zwb0ZI_SQ7Jd",
        "outputId": "aa2903bb-ea2b-4c68-db41-6032b449ea73"
      },
      "source": [
        "print(math.exp(2))"
      ],
      "execution_count": null,
      "outputs": [
        {
          "output_type": "stream",
          "name": "stdout",
          "text": [
            "7.38905609893065\n"
          ]
        }
      ]
    },
    {
      "cell_type": "code",
      "metadata": {
        "colab": {
          "base_uri": "https://localhost:8080/"
        },
        "id": "bvdrVTVXRBku",
        "outputId": "81c81a01-b008-49cf-b0af-2a5ac0b23ef4"
      },
      "source": [
        "math.sin(math.pi / 2)"
      ],
      "execution_count": null,
      "outputs": [
        {
          "output_type": "execute_result",
          "data": {
            "text/plain": [
              "1.0"
            ]
          },
          "metadata": {},
          "execution_count": 24
        }
      ]
    },
    {
      "cell_type": "code",
      "metadata": {
        "colab": {
          "base_uri": "https://localhost:8080/"
        },
        "id": "IFYwOaDTRELh",
        "outputId": "3ef147de-729d-4467-f6b0-e9c2e6d0f03d"
      },
      "source": [
        "# basically zero, but not exactly - floating point errors\n",
        "sin_of_pi = math.sin(math.pi)\n",
        "print(sin_of_pi)\n",
        "\n",
        "if sin_of_pi == 0:\n",
        "  print('zero')\n",
        "else:\n",
        "  print('nonzero')"
      ],
      "execution_count": null,
      "outputs": [
        {
          "output_type": "stream",
          "name": "stdout",
          "text": [
            "1.2246467991473532e-16\n",
            "nonzero\n"
          ]
        }
      ]
    },
    {
      "cell_type": "code",
      "metadata": {
        "colab": {
          "base_uri": "https://localhost:8080/"
        },
        "id": "5VLQzUy1RLxL",
        "outputId": "7dbe547f-7f19-481b-efc5-a0c99cbb8e86"
      },
      "source": [
        "import sys\n",
        "\n",
        "# very very very small value\n",
        "eps = sys.float_info.epsilon\n",
        "print(eps)"
      ],
      "execution_count": null,
      "outputs": [
        {
          "output_type": "stream",
          "name": "stdout",
          "text": [
            "2.220446049250313e-16\n"
          ]
        }
      ]
    },
    {
      "cell_type": "code",
      "metadata": {
        "colab": {
          "base_uri": "https://localhost:8080/"
        },
        "id": "ExiyLUoaRcgx",
        "outputId": "a1c1c2a3-cb9d-4f5a-9d59-d42017dd29c8"
      },
      "source": [
        "# correct floating point comparison - we allow a small error (eps)\n",
        "if sin_of_pi < eps:\n",
        "  print('zero')\n",
        "else:\n",
        "  print('nonzero')"
      ],
      "execution_count": null,
      "outputs": [
        {
          "output_type": "stream",
          "name": "stdout",
          "text": [
            "zero\n"
          ]
        }
      ]
    },
    {
      "cell_type": "code",
      "metadata": {
        "id": "bWejetkHSJKP"
      },
      "source": [
        ""
      ],
      "execution_count": null,
      "outputs": []
    },
    {
      "cell_type": "markdown",
      "metadata": {
        "id": "ByWSA337SPiY"
      },
      "source": [
        "## Priorita operátorů"
      ]
    },
    {
      "cell_type": "markdown",
      "metadata": {
        "id": "w5VdHxa1SmGx"
      },
      "source": [
        "https://ksvi.mff.cuni.cz/~dingle/2021-2/prog_1/notes_3.html"
      ]
    },
    {
      "cell_type": "code",
      "metadata": {
        "colab": {
          "base_uri": "https://localhost:8080/"
        },
        "id": "Criz9VX2SlQW",
        "outputId": "2200e4bc-2844-4859-d524-dd36aa685119"
      },
      "source": [
        "a = 5\n",
        "\n",
        "print(a > 5 and a > 20 or a < 10)\n",
        "print(a > 5 and (a > 20 or a < 10))"
      ],
      "execution_count": null,
      "outputs": [
        {
          "output_type": "stream",
          "name": "stdout",
          "text": [
            "True\n",
            "False\n"
          ]
        }
      ]
    },
    {
      "cell_type": "code",
      "metadata": {
        "id": "grs_BlwTS3Lu"
      },
      "source": [
        ""
      ],
      "execution_count": null,
      "outputs": []
    },
    {
      "cell_type": "markdown",
      "metadata": {
        "id": "Qpws4TuCU0TE"
      },
      "source": [
        "## Strings"
      ]
    },
    {
      "cell_type": "code",
      "metadata": {
        "colab": {
          "base_uri": "https://localhost:8080/"
        },
        "id": "E-wTzDw4U1zO",
        "outputId": "fd4ba12c-e01d-4f89-fb7f-c09ffc19461a"
      },
      "source": [
        "for char in \"Our string\":\n",
        "  print(char)"
      ],
      "execution_count": null,
      "outputs": [
        {
          "output_type": "stream",
          "name": "stdout",
          "text": [
            "O\n",
            "u\n",
            "r\n",
            " \n",
            "s\n",
            "t\n",
            "r\n",
            "i\n",
            "n\n",
            "g\n"
          ]
        }
      ]
    },
    {
      "cell_type": "code",
      "metadata": {
        "colab": {
          "base_uri": "https://localhost:8080/",
          "height": 35
        },
        "id": "3BZH7edf7KHU",
        "outputId": "e418dd75-d531-48e5-973f-642953d1d239"
      },
      "source": [
        "string = \"our string\"\n",
        "string[5]"
      ],
      "execution_count": 12,
      "outputs": [
        {
          "output_type": "execute_result",
          "data": {
            "application/vnd.google.colaboratory.intrinsic+json": {
              "type": "string"
            },
            "text/plain": [
              "'t'"
            ]
          },
          "metadata": {},
          "execution_count": 12
        }
      ]
    },
    {
      "cell_type": "code",
      "metadata": {
        "colab": {
          "base_uri": "https://localhost:8080/"
        },
        "id": "Be8WqQCJVToi",
        "outputId": "b1e8b082-2403-4b1e-e73b-f5500ad9dc36"
      },
      "source": [
        "# must be used in for cycle\n",
        "reversed(\"hello\")"
      ],
      "execution_count": null,
      "outputs": [
        {
          "output_type": "execute_result",
          "data": {
            "text/plain": [
              "<reversed at 0x7fc163a11310>"
            ]
          },
          "metadata": {},
          "execution_count": 62
        }
      ]
    },
    {
      "cell_type": "code",
      "metadata": {
        "colab": {
          "base_uri": "https://localhost:8080/"
        },
        "id": "KEHW9C4iVYAf",
        "outputId": "650b2bda-32c2-4446-d575-e58c51763c0e"
      },
      "source": [
        "for char in reversed(\"hello\"):\n",
        "  print(char)"
      ],
      "execution_count": null,
      "outputs": [
        {
          "output_type": "stream",
          "name": "stdout",
          "text": [
            "o\n",
            "l\n",
            "l\n",
            "e\n",
            "h\n"
          ]
        }
      ]
    },
    {
      "cell_type": "code",
      "metadata": {
        "id": "kvaq4d7IVc7I",
        "colab": {
          "base_uri": "https://localhost:8080/"
        },
        "outputId": "c50e4498-545f-4a55-9e47-579d0f56c511"
      },
      "source": [
        "# unicode values\n",
        "one_char = \"h\"\n",
        "ord(one_char)"
      ],
      "execution_count": 1,
      "outputs": [
        {
          "output_type": "execute_result",
          "data": {
            "text/plain": [
              "104"
            ]
          },
          "metadata": {},
          "execution_count": 1
        }
      ]
    },
    {
      "cell_type": "code",
      "metadata": {
        "colab": {
          "base_uri": "https://localhost:8080/",
          "height": 35
        },
        "id": "CMNawhe36dDU",
        "outputId": "2e42fc9d-3227-4928-b3f4-79521fe8c4c8"
      },
      "source": [
        "# other way around\n",
        "chr(65)"
      ],
      "execution_count": 5,
      "outputs": [
        {
          "output_type": "execute_result",
          "data": {
            "application/vnd.google.colaboratory.intrinsic+json": {
              "type": "string"
            },
            "text/plain": [
              "'A'"
            ]
          },
          "metadata": {},
          "execution_count": 5
        }
      ]
    },
    {
      "cell_type": "markdown",
      "metadata": {
        "id": "fkOaJ-njVf4l"
      },
      "source": [
        "## Advanced lists and for cycles"
      ]
    },
    {
      "cell_type": "code",
      "metadata": {
        "colab": {
          "base_uri": "https://localhost:8080/"
        },
        "id": "gtzK4OM4VHzA",
        "outputId": "8f8c8e28-2c35-486f-adb5-5b3bd7089292"
      },
      "source": [
        "# reversed for cycle\n",
        "for i in range(10, 0, -1):\n",
        "  print(i)"
      ],
      "execution_count": null,
      "outputs": [
        {
          "output_type": "stream",
          "name": "stdout",
          "text": [
            "10\n",
            "9\n",
            "8\n",
            "7\n",
            "6\n",
            "5\n",
            "4\n",
            "3\n",
            "2\n",
            "1\n"
          ]
        }
      ]
    },
    {
      "cell_type": "code",
      "metadata": {
        "colab": {
          "base_uri": "https://localhost:8080/"
        },
        "id": "2VHR-DJF6zQ5",
        "outputId": "d7b3f796-1706-406f-e939-042e26474de0"
      },
      "source": [
        "# for cycles with a step\n",
        "\n",
        "for i in range(0, 10, 2):\n",
        "  print(i)\n",
        "\n",
        "print()\n",
        "\n",
        "for i in range(10, 0, -2):\n",
        "  print(i)"
      ],
      "execution_count": null,
      "outputs": [
        {
          "output_type": "stream",
          "name": "stdout",
          "text": [
            "0\n",
            "2\n",
            "4\n",
            "6\n",
            "8\n",
            "\n",
            "10\n",
            "8\n",
            "6\n",
            "4\n",
            "2\n"
          ]
        }
      ]
    },
    {
      "cell_type": "markdown",
      "metadata": {
        "id": "btufqMKw7sQT"
      },
      "source": [
        "### List comprehension"
      ]
    },
    {
      "cell_type": "code",
      "metadata": {
        "id": "Ucje7VJ77pem"
      },
      "source": [
        "# instead of appending in a for cycle, we can write this\n",
        "a = [i for i in range(10)]"
      ],
      "execution_count": 14,
      "outputs": []
    },
    {
      "cell_type": "code",
      "metadata": {
        "id": "dxxXP6-I70Ac"
      },
      "source": [
        "# you can even map a function on the values\n",
        "a_strings = [str(i) for i in range(10)]"
      ],
      "execution_count": 15,
      "outputs": []
    },
    {
      "cell_type": "code",
      "metadata": {
        "colab": {
          "base_uri": "https://localhost:8080/"
        },
        "id": "GrDRj0eh75dY",
        "outputId": "6b1cbf16-7b38-4471-e962-b102e46abf19"
      },
      "source": [
        "# or an user defined function\n",
        "def add_five(i):\n",
        "  return i + 5\n",
        "\n",
        "\n",
        "a_added = [add_five(val) for val in range(10)]\n",
        "a_added"
      ],
      "execution_count": 19,
      "outputs": [
        {
          "output_type": "execute_result",
          "data": {
            "text/plain": [
              "[5, 6, 7, 8, 9, 10, 11, 12, 13, 14]"
            ]
          },
          "metadata": {},
          "execution_count": 19
        }
      ]
    },
    {
      "cell_type": "markdown",
      "metadata": {
        "id": "G2e7f8Zu8LpZ"
      },
      "source": [
        "### List slicing"
      ]
    },
    {
      "cell_type": "code",
      "metadata": {
        "colab": {
          "base_uri": "https://localhost:8080/"
        },
        "id": "hY4x2qV27XPP",
        "outputId": "ac481ac9-02de-42ae-d06e-7ff581b9acc6"
      },
      "source": [
        "# list slicing\n",
        "a = [i for i in range(10)]\n",
        "a[2:5]"
      ],
      "execution_count": 21,
      "outputs": [
        {
          "output_type": "execute_result",
          "data": {
            "text/plain": [
              "[2, 3, 4]"
            ]
          },
          "metadata": {},
          "execution_count": 21
        }
      ]
    },
    {
      "cell_type": "code",
      "metadata": {
        "colab": {
          "base_uri": "https://localhost:8080/"
        },
        "id": "qvuOiEW97QDE",
        "outputId": "1bacb1d7-0552-403e-c60d-3db0d9fe7bba"
      },
      "source": [
        "# list slicing - every second (odd) \n",
        "print(a[::2])\n",
        "\n",
        "# list slicing - every even\n",
        "print(a[1::2])\n",
        "\n",
        "# reverse\n",
        "print(a[::-1])\n",
        "            \n",
        "# every odd, but taking from the list end\n",
        "print(a[::-2])\n",
        "\n",
        "# every even, but taking from the list end (you don't need to remember this, it's index hell)\n",
        "print(a[-2::-2])"
      ],
      "execution_count": 25,
      "outputs": [
        {
          "output_type": "stream",
          "name": "stdout",
          "text": [
            "[0, 2, 4, 6, 8]\n",
            "[1, 3, 5, 7, 9]\n",
            "[9, 8, 7, 6, 5, 4, 3, 2, 1, 0]\n",
            "[9, 7, 5, 3, 1]\n",
            "[8, 6, 4, 2, 0]\n"
          ]
        }
      ]
    },
    {
      "cell_type": "markdown",
      "metadata": {
        "id": "Q9ZrbF7N9E4e"
      },
      "source": [
        "## Classes\n",
        "\n",
        "Classes represent user defined objects. You will learn more about them in the summer semester (C# is all about classes and objects).\n",
        "\n",
        "In Python, it helps you define your own structures for easier usage."
      ]
    },
    {
      "cell_type": "code",
      "metadata": {
        "id": "ykrjZImR8hBG"
      },
      "source": [
        "# each method of the class MUST have the first parameter named self\n",
        "\n",
        "class MyNiceList:\n",
        "  # this is a constructor - it is called when you want to create an object of your class\n",
        "  def __init__(self, my_list):\n",
        "\n",
        "    # this is a member of the class - i.e. the content\n",
        "    self.my_list = my_list\n",
        "\n",
        "  def return_evens(self):\n",
        "    # self helps us to access members\n",
        "    return self.my_list[1::2]\n",
        "\n",
        "  def return_odds(self):\n",
        "    return self.my_list[::2]\n",
        "\n",
        "  # This prints your object when you call str()\n",
        "  def __str__(self):\n",
        "    return f\"My beautiful list: {self.my_list}\""
      ],
      "execution_count": 27,
      "outputs": []
    },
    {
      "cell_type": "code",
      "metadata": {
        "id": "2cdZswV19D-_"
      },
      "source": [
        "my_first_list = MyNiceList([1, 2, 3])\n",
        "my_second_list = MyNiceList([2, 5, 6])"
      ],
      "execution_count": 28,
      "outputs": []
    },
    {
      "cell_type": "code",
      "metadata": {
        "colab": {
          "base_uri": "https://localhost:8080/"
        },
        "id": "4p3uRiJV-efA",
        "outputId": "0a4bbd7e-7e88-4c21-f4f3-5b27d18f3500"
      },
      "source": [
        "# print calls str\n",
        "print(str(my_first_list))\n",
        "print(my_second_list)"
      ],
      "execution_count": 30,
      "outputs": [
        {
          "output_type": "stream",
          "name": "stdout",
          "text": [
            "My beautiful list: [1, 2, 3]\n",
            "My beautiful list: [2, 5, 6]\n"
          ]
        }
      ]
    },
    {
      "cell_type": "code",
      "metadata": {
        "colab": {
          "base_uri": "https://localhost:8080/"
        },
        "id": "j2k4qTEr-g93",
        "outputId": "eaef9cc9-157e-4fd4-a0b9-e125b6d76287"
      },
      "source": [
        "my_first_list.return_odds()"
      ],
      "execution_count": 32,
      "outputs": [
        {
          "output_type": "execute_result",
          "data": {
            "text/plain": [
              "[1, 3]"
            ]
          },
          "metadata": {},
          "execution_count": 32
        }
      ]
    },
    {
      "cell_type": "code",
      "metadata": {
        "colab": {
          "base_uri": "https://localhost:8080/"
        },
        "id": "wJATPIxy-pU4",
        "outputId": "6cf1a2bb-e3d6-435c-c9b1-e549ab4ee542"
      },
      "source": [
        "# why are classes nice?\n",
        "\n",
        "class LotsOfLists:\n",
        "  def __init__(self, list_1, list_2, list_3):\n",
        "    self.list_1 = list_1\n",
        "    self.list_2 = list_2\n",
        "    self.list_3 = list_3\n",
        "\n",
        "  def append_to_all(self, val):\n",
        "    self.list_1.append(val)\n",
        "    self.list_2.append(val)\n",
        "    self.list_3.append(val)\n",
        "\n",
        "  def __str__(self):\n",
        "    list_strings = [\n",
        "      f\"List 1: {self.list_1}\",\n",
        "      f\"List 2: {self.list_2}\",\n",
        "      f\"List 3: {self.list_3}\"\n",
        "    ]\n",
        "    return \", \".join(list_strings)\n",
        "\n",
        "# ... they make things simpler\n",
        "my_lists = LotsOfLists([], [1], [2, 3])\n",
        "print(my_lists)\n",
        "\n",
        "for i in range(0, 10, 2):\n",
        "  my_lists.append_to_all(i)\n",
        "\n",
        "print(\"After appends:\")\n",
        "print(my_lists)"
      ],
      "execution_count": 37,
      "outputs": [
        {
          "output_type": "stream",
          "name": "stdout",
          "text": [
            "List 1: [], List 2: [1], List 3: [2, 3]\n",
            "After appends:\n",
            "List 1: [0, 2, 4, 6, 8], List 2: [1, 0, 2, 4, 6, 8], List 3: [2, 3, 0, 2, 4, 6, 8]\n"
          ]
        }
      ]
    },
    {
      "cell_type": "code",
      "metadata": {
        "id": "rzU1ym0s_oyo"
      },
      "source": [
        ""
      ],
      "execution_count": null,
      "outputs": []
    }
  ]
}