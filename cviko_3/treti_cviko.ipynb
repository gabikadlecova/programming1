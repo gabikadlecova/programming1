{
  "nbformat": 4,
  "nbformat_minor": 0,
  "metadata": {
    "colab": {
      "name": "treti_cviko.ipynb",
      "provenance": [],
      "collapsed_sections": []
    },
    "kernelspec": {
      "name": "python3",
      "display_name": "Python 3"
    },
    "language_info": {
      "name": "python"
    }
  },
  "cells": [
    {
      "cell_type": "markdown",
      "metadata": {
        "id": "AHjMBosvIrHr"
      },
      "source": [
        "## Types"
      ]
    },
    {
      "cell_type": "markdown",
      "metadata": {
        "id": "H6bWM-A2K-mH"
      },
      "source": [
        "### Numbers"
      ]
    },
    {
      "cell_type": "code",
      "metadata": {
        "colab": {
          "base_uri": "https://localhost:8080/"
        },
        "id": "EiSkFogwFrQ_",
        "outputId": "40291dd4-66bc-4240-e098-7c48d65a5b12"
      },
      "source": [
        "int('5')"
      ],
      "execution_count": null,
      "outputs": [
        {
          "output_type": "execute_result",
          "data": {
            "text/plain": [
              "5"
            ]
          },
          "metadata": {},
          "execution_count": 9
        }
      ]
    },
    {
      "cell_type": "code",
      "metadata": {
        "colab": {
          "base_uri": "https://localhost:8080/"
        },
        "id": "O9dCdtPDFtt4",
        "outputId": "6d7a0015-3427-4edb-c78a-94c141d122c3"
      },
      "source": [
        "float(5)"
      ],
      "execution_count": null,
      "outputs": [
        {
          "output_type": "execute_result",
          "data": {
            "text/plain": [
              "5.0"
            ]
          },
          "metadata": {},
          "execution_count": 10
        }
      ]
    },
    {
      "cell_type": "code",
      "metadata": {
        "colab": {
          "base_uri": "https://localhost:8080/",
          "height": 35
        },
        "id": "Hx91AbdSFtTp",
        "outputId": "87433fe6-57c3-4d10-d3df-d676908c1baf"
      },
      "source": [
        "str(5)"
      ],
      "execution_count": null,
      "outputs": [
        {
          "output_type": "execute_result",
          "data": {
            "application/vnd.google.colaboratory.intrinsic+json": {
              "type": "string"
            },
            "text/plain": [
              "'5'"
            ]
          },
          "metadata": {},
          "execution_count": 11
        }
      ]
    },
    {
      "cell_type": "code",
      "metadata": {
        "colab": {
          "base_uri": "https://localhost:8080/"
        },
        "id": "2zhyVGg3Iz-8",
        "outputId": "7a1b4b9e-4606-4325-c135-8ec79d943b48"
      },
      "source": [
        "# list of ints\n",
        "[5, 3, 4]"
      ],
      "execution_count": null,
      "outputs": [
        {
          "output_type": "execute_result",
          "data": {
            "text/plain": [
              "[5, 3, 4]"
            ]
          },
          "metadata": {},
          "execution_count": 12
        }
      ]
    },
    {
      "cell_type": "code",
      "metadata": {
        "colab": {
          "base_uri": "https://localhost:8080/"
        },
        "id": "84-sFIe7I0QZ",
        "outputId": "3aef584f-79c7-43af-ee22-c0e810607b92"
      },
      "source": [
        "# list of strings\n",
        "['55', 'a', '5']"
      ],
      "execution_count": null,
      "outputs": [
        {
          "output_type": "execute_result",
          "data": {
            "text/plain": [
              "['55', 'a', '5']"
            ]
          },
          "metadata": {},
          "execution_count": 13
        }
      ]
    },
    {
      "cell_type": "code",
      "metadata": {
        "colab": {
          "base_uri": "https://localhost:8080/"
        },
        "id": "1KZw4tkYI3gl",
        "outputId": "33f8202f-c06a-41b7-aa8f-6dec927d375f"
      },
      "source": [
        "# mixed list - beware\n",
        "[5, '5', 55]"
      ],
      "execution_count": null,
      "outputs": [
        {
          "output_type": "execute_result",
          "data": {
            "text/plain": [
              "[5, '5', 55]"
            ]
          },
          "metadata": {},
          "execution_count": 15
        }
      ]
    },
    {
      "cell_type": "code",
      "metadata": {
        "colab": {
          "base_uri": "https://localhost:8080/"
        },
        "id": "vR20YUjSK7v8",
        "outputId": "c4b5f7a4-75bd-4206-96d3-b7129d899d4d"
      },
      "source": [
        "# Připomenutí - zbytek po dělení\n",
        "# sudé a liché:\n",
        "\n",
        "sude = 2\n",
        "liche = 1\n",
        "\n",
        "print(sude % 2)\n",
        "print(liche % 2)\n",
        "\n",
        "print(sude % 3)"
      ],
      "execution_count": null,
      "outputs": [
        {
          "output_type": "stream",
          "name": "stdout",
          "text": [
            "0\n",
            "1\n",
            "2\n"
          ]
        }
      ]
    },
    {
      "cell_type": "markdown",
      "metadata": {
        "id": "61J16JpUK78K"
      },
      "source": [
        "### Bool"
      ]
    },
    {
      "cell_type": "code",
      "metadata": {
        "colab": {
          "base_uri": "https://localhost:8080/"
        },
        "id": "8cNmzfwGKlkP",
        "outputId": "fb447851-c23f-443c-ca67-2d043da341f5"
      },
      "source": [
        "# bool type - logical statements, True or False\n",
        "is_it = 5 == '5'\n",
        "print(f\"Value: {is_it}\")\n",
        "\n",
        "print(f\"Is it of type bool: {isinstance(is_it, bool)}\")"
      ],
      "execution_count": null,
      "outputs": [
        {
          "output_type": "stream",
          "name": "stdout",
          "text": [
            "Value: False\n",
            "Is it of type bool: True\n"
          ]
        }
      ]
    },
    {
      "cell_type": "code",
      "metadata": {
        "colab": {
          "base_uri": "https://localhost:8080/"
        },
        "id": "ZwJIfn-BK7BZ",
        "outputId": "732e24b8-6455-44a8-9251-6053cf865fd3"
      },
      "source": [
        "# logical operators\n",
        "\n",
        "num = 4\n",
        "\n",
        "between_5_and_9 = num >= 5 and num < 10\n",
        "same_but_with_or = num >= 5 or num < 10  \n",
        "\n",
        "if between_5_and_9:\n",
        "  print(\"'And' In range\")\n",
        "else:\n",
        "  print(\"'And' Out of range\")\n",
        "\n",
        "if same_but_with_or:\n",
        "  print(\"'Or' in range\")\n",
        "else:\n",
        "  print(\"'Or' our of range\")"
      ],
      "execution_count": null,
      "outputs": [
        {
          "output_type": "stream",
          "name": "stdout",
          "text": [
            "'And' Out of range\n",
            "'Or' in range\n"
          ]
        }
      ]
    },
    {
      "cell_type": "code",
      "metadata": {
        "id": "kJbZ5mVaL4Yx"
      },
      "source": [
        "# don't do this. It works, but it is ugly (and people will laugh at you)\n",
        "if same_but_with_or == True:\n",
        "  pass  # pass means \"do nothing\""
      ],
      "execution_count": null,
      "outputs": []
    },
    {
      "cell_type": "code",
      "metadata": {
        "colab": {
          "base_uri": "https://localhost:8080/"
        },
        "id": "0OkrbY1FL6TK",
        "outputId": "bf978726-8d83-409a-e27e-222d72df909d"
      },
      "source": [
        "# negation:\n",
        "\n",
        "if not between_5_and_9:\n",
        "  print(\"Outside\")\n",
        "\n",
        "if 5 != '5':\n",
        "  print(f\"5 is not the string '5'\")\n",
        "\n",
        "num_2 = 2\n",
        "\n",
        "if not num_2 > 5:\n",
        "  print('Small')"
      ],
      "execution_count": null,
      "outputs": [
        {
          "output_type": "stream",
          "name": "stdout",
          "text": [
            "Outside\n",
            "5 is not the string '5'\n",
            "Small\n"
          ]
        }
      ]
    },
    {
      "cell_type": "markdown",
      "metadata": {
        "id": "7KJOP8f_Mtzu"
      },
      "source": [
        "Comparison operators:\n",
        "\n",
        "- x < y: less than\n",
        "\n",
        "- x <= y: less than or equal\n",
        "\n",
        "- x > y: greater\n",
        "\n",
        "- x >= y: greater than or equal\n",
        "\n",
        "- x == y: equal\n",
        "- x != y: not equal"
      ]
    },
    {
      "cell_type": "code",
      "metadata": {
        "colab": {
          "base_uri": "https://localhost:8080/"
        },
        "id": "0N3DTH_ZMG4m",
        "outputId": "ce383957-8c60-4b04-b763-6c152ec4208d"
      },
      "source": [
        "# you can write inequalities in a nice short way\n",
        "\n",
        "num_3 = 10\n",
        "# num_3 = 50\n",
        "\n",
        "if 5 < num_3 <= 10:\n",
        "  print(\"In range\")\n",
        "else:\n",
        "  print(\"Out of range\")"
      ],
      "execution_count": null,
      "outputs": [
        {
          "output_type": "stream",
          "name": "stdout",
          "text": [
            "In range\n"
          ]
        }
      ]
    },
    {
      "cell_type": "markdown",
      "metadata": {
        "id": "fwS-xSTDJNz_"
      },
      "source": [
        "## Numbers"
      ]
    },
    {
      "cell_type": "code",
      "metadata": {
        "colab": {
          "base_uri": "https://localhost:8080/"
        },
        "id": "nfSaPkofI3m2",
        "outputId": "1c568d09-7c0a-458f-e5ea-7e130d927aa8"
      },
      "source": [
        "# python ints can be LARGE\n",
        "2 ** 100"
      ],
      "execution_count": null,
      "outputs": [
        {
          "output_type": "execute_result",
          "data": {
            "text/plain": [
              "1267650600228229401496703205376"
            ]
          },
          "metadata": {},
          "execution_count": 21
        }
      ]
    },
    {
      "cell_type": "code",
      "metadata": {
        "colab": {
          "base_uri": "https://localhost:8080/"
        },
        "id": "5cncFSrKJQQl",
        "outputId": "9ad2d23a-5bfd-4b84-8eb3-3c577a1f2418"
      },
      "source": [
        "large_float = 10.0 ** 100\n",
        "print(large_float)  # exponential notation\n",
        "\n",
        "print(\"Back to integer:\")\n",
        "print(int(large_float))\n",
        "print()\n",
        "\n",
        "print(\"large_float == large_float + 100 -> information lost\")\n",
        "print(int(large_float) == int(large_float + 100))"
      ],
      "execution_count": null,
      "outputs": [
        {
          "output_type": "stream",
          "name": "stdout",
          "text": [
            "1e+100\n",
            "Back to integer:\n",
            "10000000000000000159028911097599180468360808563945281389781327557747838772170381060813469985856815104\n",
            "\n",
            "large_float == large_float + 100 -> information lost\n",
            "True\n"
          ]
        }
      ]
    },
    {
      "cell_type": "code",
      "metadata": {
        "id": "28u-j8UsJQeD"
      },
      "source": [
        ""
      ],
      "execution_count": null,
      "outputs": []
    },
    {
      "cell_type": "code",
      "metadata": {
        "colab": {
          "base_uri": "https://localhost:8080/",
          "height": 52
        },
        "id": "xWc645Qn1dt3",
        "outputId": "a4fea9f3-256f-40c1-c6db-03204942c8c7"
      },
      "source": [
        "# read a list of numbers separated by whitespace\n",
        "num_list = input().strip()\n",
        "num_list"
      ],
      "execution_count": null,
      "outputs": [
        {
          "name": "stdout",
          "output_type": "stream",
          "text": [
            "5    10 2 3  50 -1 10 \n"
          ]
        },
        {
          "output_type": "execute_result",
          "data": {
            "application/vnd.google.colaboratory.intrinsic+json": {
              "type": "string"
            },
            "text/plain": [
              "'5    10 2 3  50 -1 10'"
            ]
          },
          "metadata": {},
          "execution_count": 3
        }
      ]
    },
    {
      "cell_type": "code",
      "metadata": {
        "colab": {
          "base_uri": "https://localhost:8080/"
        },
        "id": "XKu_5XEZE4wy",
        "outputId": "b0a89fe5-c2e9-4c60-ff2a-688969d29588"
      },
      "source": [
        "# the result is a string, not a list\n",
        "print(isinstance(num_list, str))\n",
        "print(isinstance(num_list, list))"
      ],
      "execution_count": null,
      "outputs": [
        {
          "output_type": "stream",
          "name": "stdout",
          "text": [
            "True\n",
            "False\n"
          ]
        }
      ]
    },
    {
      "cell_type": "code",
      "metadata": {
        "colab": {
          "base_uri": "https://localhost:8080/"
        },
        "id": "2Ws5YCg2FKKj",
        "outputId": "e91e9b20-ea16-4b31-bdeb-2c69ef3e7862"
      },
      "source": [
        "# split() is a method that splits the string into\n",
        "\n",
        "num_list = num_list.split()\n",
        "num_list"
      ],
      "execution_count": null,
      "outputs": [
        {
          "output_type": "execute_result",
          "data": {
            "text/plain": [
              "['5', '10', '2', '3', '50', '-1', '10']"
            ]
          },
          "metadata": {},
          "execution_count": 7
        }
      ]
    },
    {
      "cell_type": "code",
      "metadata": {
        "id": "sCYV8d1NFP2M"
      },
      "source": [
        "# method vs function\n",
        "print()  # is a function\n",
        "num_list.split()  # is a method, because we need a list variable to call it"
      ],
      "execution_count": null,
      "outputs": []
    },
    {
      "cell_type": "code",
      "metadata": {
        "colab": {
          "base_uri": "https://localhost:8080/"
        },
        "id": "tTDcitEwFpZP",
        "outputId": "e3be9cf2-c47d-4f46-feb1-b809abc0622d"
      },
      "source": [
        "# other useful methods\n",
        "num_list.reverse()\n",
        "print(num_list)\n",
        "\n",
        "num_list.clear()\n",
        "print(num_list)"
      ],
      "execution_count": null,
      "outputs": [
        {
          "output_type": "stream",
          "name": "stdout",
          "text": [
            "['10', '-1', '50', '3', '2', '10', '5']\n",
            "[]\n"
          ]
        }
      ]
    },
    {
      "cell_type": "markdown",
      "metadata": {
        "id": "i9We6Ug6NPkY"
      },
      "source": [
        "## If, For, While"
      ]
    },
    {
      "cell_type": "code",
      "metadata": {
        "colab": {
          "base_uri": "https://localhost:8080/"
        },
        "id": "8hov7XwxIcDj",
        "outputId": "2291e0fb-1e72-4db6-9e72-2da0f9fa0522"
      },
      "source": [
        "# if je podmínka\n",
        "\n",
        "# vyzkoušejte pro různé hodnoty proměnné 'a' (odkomentujte - smažte #)\n",
        "a = 3\n",
        "# a = 5\n",
        "# a = 15\n",
        "# a = 20\n",
        "\n",
        "if a < 5:\n",
        "  print(\"Smaller than 5.\")\n",
        "elif a < 10:\n",
        "  print(\"Smaller than 10.\")\n",
        "elif a < 20:\n",
        "  print(\"Smaller than 20.\")\n",
        "else:\n",
        "  print(\"Larger.\")"
      ],
      "execution_count": null,
      "outputs": [
        {
          "output_type": "stream",
          "name": "stdout",
          "text": [
            "Larger.\n"
          ]
        }
      ]
    },
    {
      "cell_type": "markdown",
      "metadata": {
        "id": "5SE0EkAXRkbm"
      },
      "source": [
        "### For"
      ]
    },
    {
      "cell_type": "code",
      "metadata": {
        "colab": {
          "base_uri": "https://localhost:8080/"
        },
        "id": "360vn7WEN5B8",
        "outputId": "02330fa1-3905-427c-a656-9365b4193e34"
      },
      "source": [
        "# for cyklus - přes prvky pole\n",
        "\n",
        "num_list = [5, 6, -1, 20]\n",
        "\n",
        "for num in num_list:\n",
        "  print(num)"
      ],
      "execution_count": null,
      "outputs": [
        {
          "output_type": "stream",
          "name": "stdout",
          "text": [
            "5\n",
            "6\n",
            "-1\n",
            "20\n"
          ]
        }
      ]
    },
    {
      "cell_type": "code",
      "metadata": {
        "colab": {
          "base_uri": "https://localhost:8080/"
        },
        "id": "_HYPn9zWOVUt",
        "outputId": "ca3114fe-b534-4d43-86ba-7bf497720d52"
      },
      "source": [
        "# for cyklus - přes rozsah hodnot\n",
        "\n",
        "for i in range(5):\n",
        "  print(i, end=' ')  # pozor, vypíše mezeru i za posledním číslem"
      ],
      "execution_count": null,
      "outputs": [
        {
          "output_type": "stream",
          "name": "stdout",
          "text": [
            "0 1 2 3 4 "
          ]
        }
      ]
    },
    {
      "cell_type": "code",
      "metadata": {
        "colab": {
          "base_uri": "https://localhost:8080/"
        },
        "id": "ZUqBBXyQRf1o",
        "outputId": "11be7297-94e7-459a-b505-1a40ab42b93a"
      },
      "source": [
        "# for cyklus - rozsah omezen i zdola (zdola včetně, shora otevřeně)\n",
        "\n",
        "for i in range(5, 10):\n",
        "  print(i)"
      ],
      "execution_count": null,
      "outputs": [
        {
          "output_type": "stream",
          "name": "stdout",
          "text": [
            "5\n",
            "6\n",
            "7\n",
            "8\n",
            "9\n"
          ]
        }
      ]
    },
    {
      "cell_type": "code",
      "metadata": {
        "colab": {
          "base_uri": "https://localhost:8080/"
        },
        "id": "ff-xyPwROhcb",
        "outputId": "96d0c2ca-bda8-4dfd-a6f6-757839655d68"
      },
      "source": [
        "# průchod polem pomocí range; len(num_list) vrací délku pole, num[i] je i-tý prvek\n",
        "\n",
        "for i in range(len(num_list)):\n",
        "  print(f\"{i}: {num_list[i]}\", end=', ')\n",
        "\n",
        "print()"
      ],
      "execution_count": null,
      "outputs": [
        {
          "output_type": "stream",
          "name": "stdout",
          "text": [
            "0: 5, 1: 6, 2: -1, 3: 20, \n"
          ]
        }
      ]
    },
    {
      "cell_type": "code",
      "metadata": {
        "colab": {
          "base_uri": "https://localhost:8080/"
        },
        "id": "wEKm_II8R3nH",
        "outputId": "fd01f908-b8cb-40ac-9c55-45d67c2b8f1e"
      },
      "source": [
        "# jak se zbavit čárky na konci:\n",
        "\n",
        "for i in range(len(num_list)):\n",
        "  string_to_print = f\"{i}: {num_list[i]}\"\n",
        "  \n",
        "  # potřebuju vypisovat něco jiného pro poslední prvek\n",
        "  if i == len(num_list) - 1:\n",
        "    print(string_to_print)\n",
        "  else:\n",
        "    print(string_to_print, end=', ')"
      ],
      "execution_count": null,
      "outputs": [
        {
          "output_type": "stream",
          "name": "stdout",
          "text": [
            "0: 5, 1: 6, 2: -1, 3: 20\n"
          ]
        }
      ]
    },
    {
      "cell_type": "code",
      "metadata": {
        "colab": {
          "base_uri": "https://localhost:8080/",
          "height": 197
        },
        "id": "qqXH8vavR7YC",
        "outputId": "93ea28d3-15dd-40cb-f9fe-2c21e7c1306e"
      },
      "source": [
        "# Takže první prvek má index 0, poslední len(num_list) - 1\n",
        "\n",
        "# len(num_list) už je mimo\n",
        "print(num_list[len(num_list)])"
      ],
      "execution_count": null,
      "outputs": [
        {
          "output_type": "error",
          "ename": "IndexError",
          "evalue": "ignored",
          "traceback": [
            "\u001b[0;31m---------------------------------------------------------------------------\u001b[0m",
            "\u001b[0;31mIndexError\u001b[0m                                Traceback (most recent call last)",
            "\u001b[0;32m<ipython-input-67-fb31358f39ef>\u001b[0m in \u001b[0;36m<module>\u001b[0;34m()\u001b[0m\n\u001b[1;32m      1\u001b[0m \u001b[0;31m# Takže první prvek má index 0, poslední len(num_list) - 1\u001b[0m\u001b[0;34m\u001b[0m\u001b[0;34m\u001b[0m\u001b[0;34m\u001b[0m\u001b[0m\n\u001b[1;32m      2\u001b[0m \u001b[0;34m\u001b[0m\u001b[0m\n\u001b[0;32m----> 3\u001b[0;31m \u001b[0mprint\u001b[0m\u001b[0;34m(\u001b[0m\u001b[0mnum_list\u001b[0m\u001b[0;34m[\u001b[0m\u001b[0mlen\u001b[0m\u001b[0;34m(\u001b[0m\u001b[0mnum_list\u001b[0m\u001b[0;34m)\u001b[0m\u001b[0;34m]\u001b[0m\u001b[0;34m)\u001b[0m\u001b[0;34m\u001b[0m\u001b[0;34m\u001b[0m\u001b[0m\n\u001b[0m",
            "\u001b[0;31mIndexError\u001b[0m: list index out of range"
          ]
        }
      ]
    },
    {
      "cell_type": "code",
      "metadata": {
        "colab": {
          "base_uri": "https://localhost:8080/"
        },
        "id": "ThvQvBuvSEKS",
        "outputId": "b3297e97-7815-46ee-c6c9-065122362fd1"
      },
      "source": [
        "# Indexování od konce se dělá pomocí záporných hodnot,\n",
        "#  to budeme dělat spíš příště, ale píšu to, kdybyste\n",
        "#  to udělali omylem (ať můžete hledat chyby)\n",
        "\n",
        "print(num_list[-1])\n",
        "print(num_list)\n",
        "\n",
        "for i in range(len(num_list)):\n",
        "  print(num_list[-(i + 1)])\n",
        "  # print(num_list[-(i + 1)])   # Proč tohle vypíše 5 jako první?\n"
      ],
      "execution_count": null,
      "outputs": [
        {
          "output_type": "stream",
          "name": "stdout",
          "text": [
            "20\n",
            "[5, 6, -1, 20]\n",
            "20\n",
            "-1\n",
            "6\n",
            "5\n"
          ]
        }
      ]
    },
    {
      "cell_type": "markdown",
      "metadata": {
        "id": "xq3N8nXvRg06"
      },
      "source": [
        "### While"
      ]
    },
    {
      "cell_type": "code",
      "metadata": {
        "colab": {
          "base_uri": "https://localhost:8080/"
        },
        "id": "oKeqzSLEOyry",
        "outputId": "add86128-ba90-4ab3-aa07-b8c0d9674485"
      },
      "source": [
        "# while cyklus - opakuje, dokud není podmínka splněná\n",
        "\n",
        "i = 0\n",
        "while i < 5:\n",
        "  print(i)\n",
        "  i += 1  # to samé, jako i = i + 1"
      ],
      "execution_count": null,
      "outputs": [
        {
          "output_type": "stream",
          "name": "stdout",
          "text": [
            "0\n",
            "1\n",
            "2\n",
            "3\n",
            "4\n"
          ]
        }
      ]
    },
    {
      "cell_type": "code",
      "metadata": {
        "colab": {
          "base_uri": "https://localhost:8080/",
          "height": 231
        },
        "id": "N8wdDsC3PqNz",
        "outputId": "ca5eae2d-39a2-450a-cced-d546830de2ec"
      },
      "source": [
        "# nekonečný cyklus <3\n",
        "# <- (zabij mě pomocí čtverečku vedle buňky )\n",
        "\n",
        "i = 0\n",
        "while i == 0:\n",
        "  pass\n",
        "\n",
        "# tohle je jasné, ale při programování si často vyrobím nekonečný cyklus,\n",
        "#   typicky když se spletu o +- 1, anebo zapomenu napsat i += 1"
      ],
      "execution_count": null,
      "outputs": [
        {
          "output_type": "error",
          "ename": "KeyboardInterrupt",
          "evalue": "ignored",
          "traceback": [
            "\u001b[0;31m---------------------------------------------------------------------------\u001b[0m",
            "\u001b[0;31mKeyboardInterrupt\u001b[0m                         Traceback (most recent call last)",
            "\u001b[0;32m<ipython-input-59-79394b7e3e42>\u001b[0m in \u001b[0;36m<module>\u001b[0;34m()\u001b[0m\n\u001b[1;32m      3\u001b[0m \u001b[0;34m\u001b[0m\u001b[0m\n\u001b[1;32m      4\u001b[0m \u001b[0mi\u001b[0m \u001b[0;34m=\u001b[0m \u001b[0;36m0\u001b[0m\u001b[0;34m\u001b[0m\u001b[0;34m\u001b[0m\u001b[0m\n\u001b[0;32m----> 5\u001b[0;31m \u001b[0;32mwhile\u001b[0m \u001b[0mi\u001b[0m \u001b[0;34m==\u001b[0m \u001b[0;36m0\u001b[0m\u001b[0;34m:\u001b[0m\u001b[0;34m\u001b[0m\u001b[0;34m\u001b[0m\u001b[0m\n\u001b[0m\u001b[1;32m      6\u001b[0m   \u001b[0;32mpass\u001b[0m\u001b[0;34m\u001b[0m\u001b[0;34m\u001b[0m\u001b[0m\n\u001b[1;32m      7\u001b[0m \u001b[0;34m\u001b[0m\u001b[0m\n",
            "\u001b[0;31mKeyboardInterrupt\u001b[0m: "
          ]
        }
      ]
    },
    {
      "cell_type": "code",
      "metadata": {
        "colab": {
          "base_uri": "https://localhost:8080/"
        },
        "id": "-34-i0YMPxJO",
        "outputId": "ae6a45fe-9ebf-474a-8751-5db78de288a1"
      },
      "source": [
        "# mohu použít and, or, not jako u ifu\n",
        "\n",
        "i = 0\n",
        "j = 0\n",
        "\n",
        "while i < 10 or j < 10:\n",
        "  if i % 2 == 0:\n",
        "    j += 1\n",
        "  \n",
        "  if j % 2 == 0:\n",
        "    i += 1\n",
        "\n",
        "print(i, j)"
      ],
      "execution_count": null,
      "outputs": [
        {
          "output_type": "stream",
          "name": "stdout",
          "text": [
            "10 10\n"
          ]
        }
      ]
    },
    {
      "cell_type": "code",
      "metadata": {
        "colab": {
          "base_uri": "https://localhost:8080/"
        },
        "id": "Z4KavjEQQoET",
        "outputId": "0cf69390-584a-4a09-8cea-32bd2807f693"
      },
      "source": [
        "# for a while cyklus můžu přerušit pomocí break, to vyskočí z cyklu ven\n",
        "\n",
        "print('for')\n",
        "for a in range(5):\n",
        "  print(a)\n",
        "\n",
        "  if a == 3:\n",
        "    break\n",
        "\n",
        "print('\\nwhile')\n",
        "while True:\n",
        "  a += 1\n",
        "  print(a)\n",
        "  if a > 5:\n",
        "    break"
      ],
      "execution_count": null,
      "outputs": [
        {
          "output_type": "stream",
          "name": "stdout",
          "text": [
            "for\n",
            "0\n",
            "1\n",
            "2\n",
            "3\n",
            "\n",
            "while\n",
            "4\n",
            "5\n",
            "6\n"
          ]
        }
      ]
    },
    {
      "cell_type": "code",
      "metadata": {
        "colab": {
          "base_uri": "https://localhost:8080/"
        },
        "id": "_u8rK04xT7cZ",
        "outputId": "361c528c-7f90-4fe9-aa2b-818eb55d71dd"
      },
      "source": [
        "# naopak continue přeskočí jedno provedení cyklu\n",
        "\n",
        "for a in range(10):\n",
        "  if a % 2 == 0:\n",
        "    continue\n",
        "\n",
        "  print(a)"
      ],
      "execution_count": null,
      "outputs": [
        {
          "output_type": "stream",
          "name": "stdout",
          "text": [
            "1\n",
            "3\n",
            "5\n",
            "7\n",
            "9\n"
          ]
        }
      ]
    },
    {
      "cell_type": "code",
      "metadata": {
        "id": "IRUmPDazUP2a"
      },
      "source": [
        ""
      ],
      "execution_count": null,
      "outputs": []
    }
  ]
}