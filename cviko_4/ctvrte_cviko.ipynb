{
  "nbformat": 4,
  "nbformat_minor": 0,
  "metadata": {
    "colab": {
      "name": "ctvrte_cviko.ipynb",
      "provenance": [],
      "collapsed_sections": []
    },
    "kernelspec": {
      "name": "python3",
      "display_name": "Python 3"
    },
    "language_info": {
      "name": "python"
    }
  },
  "cells": [
    {
      "cell_type": "markdown",
      "metadata": {
        "id": "_POqx2m9PhEx"
      },
      "source": [
        "## More on split + join"
      ]
    },
    {
      "cell_type": "code",
      "metadata": {
        "colab": {
          "base_uri": "https://localhost:8080/"
        },
        "id": "fYy5iQIYKohc",
        "outputId": "992814d7-d406-4674-94be-c1c52b0be0df"
      },
      "source": [
        "# split string into list of strings:\n",
        "\"5 5 10 20 hello 4\".split()"
      ],
      "execution_count": null,
      "outputs": [
        {
          "output_type": "execute_result",
          "data": {
            "text/plain": [
              "['5', '5', '10', '20', 'hello', '4']"
            ]
          },
          "metadata": {},
          "execution_count": 1
        }
      ]
    },
    {
      "cell_type": "code",
      "metadata": {
        "colab": {
          "base_uri": "https://localhost:8080/"
        },
        "id": "69DjNMlr0xvy",
        "outputId": "23399321-26c2-467e-bd2c-c958f5a53992"
      },
      "source": [
        "# input separated by BOTH whitespace and newlines - processing\n",
        "\n",
        "our_list = []\n",
        "\n",
        "break_it = False\n",
        "while not break_it:\n",
        "  line = input()\n",
        "  list_of_vals = line.split()\n",
        "  \n",
        "  for val in list_of_vals:\n",
        "    if val == '-1':\n",
        "      break_it = True\n",
        "    \n",
        "    our_list.append(val)\n",
        "\n",
        "print(our_list)"
      ],
      "execution_count": null,
      "outputs": [
        {
          "output_type": "stream",
          "name": "stdout",
          "text": [
            "5 5 10 -2\n",
            "5 20 10\n",
            "2 -1\n",
            "['5', '5', '10', '-2', '5', '20', '10', '2', '-1']\n"
          ]
        }
      ]
    },
    {
      "cell_type": "code",
      "metadata": {
        "colab": {
          "base_uri": "https://localhost:8080/"
        },
        "id": "MRGA-pomPD3T",
        "outputId": "d9cdf43f-9011-4880-8a42-b3483dedd2e5"
      },
      "source": [
        "# split string into list of strings - advanced:\n",
        "\"5, 5, 10, 20 hello, 4\".split(\", \")"
      ],
      "execution_count": null,
      "outputs": [
        {
          "output_type": "execute_result",
          "data": {
            "text/plain": [
              "['5', '5', '10', '20 hello', '4']"
            ]
          },
          "metadata": {},
          "execution_count": 73
        }
      ]
    },
    {
      "cell_type": "code",
      "metadata": {
        "colab": {
          "base_uri": "https://localhost:8080/",
          "height": 35
        },
        "id": "gIUFyszkPJmj",
        "outputId": "5d3fd323-3969-4379-b082-225d660ae692"
      },
      "source": [
        "# join a list of strings back into one long string (notice that the separator is not printed after the last element):\n",
        "\", \".join(['5', '10', '20'])"
      ],
      "execution_count": null,
      "outputs": [
        {
          "output_type": "execute_result",
          "data": {
            "application/vnd.google.colaboratory.intrinsic+json": {
              "type": "string"
            },
            "text/plain": [
              "'5, 10, 20'"
            ]
          },
          "metadata": {},
          "execution_count": 5
        }
      ]
    },
    {
      "cell_type": "code",
      "metadata": {
        "colab": {
          "base_uri": "https://localhost:8080/",
          "height": 35
        },
        "id": "Dsi7eFQNPSZD",
        "outputId": "b1ffa8a7-5e2c-4992-ffaa-6a7a4fe2dd11"
      },
      "source": [
        "# join a list of string, no separator\n",
        "\"\".join(['5', '10', '20'])"
      ],
      "execution_count": null,
      "outputs": [
        {
          "output_type": "execute_result",
          "data": {
            "application/vnd.google.colaboratory.intrinsic+json": {
              "type": "string"
            },
            "text/plain": [
              "'51020'"
            ]
          },
          "metadata": {},
          "execution_count": 6
        }
      ]
    },
    {
      "cell_type": "code",
      "metadata": {
        "colab": {
          "base_uri": "https://localhost:8080/"
        },
        "id": "_c3JE0U7PaH6",
        "outputId": "dc6cd844-d481-4b66-9a5c-5d87db5c068b"
      },
      "source": [
        "# join a list with newlines - windows style\n",
        "print(\"\\r\\n\".join(['5', '10', '20']))"
      ],
      "execution_count": 1,
      "outputs": [
        {
          "output_type": "stream",
          "name": "stdout",
          "text": [
            "5\r\n",
            "10\r\n",
            "20\n"
          ]
        }
      ]
    },
    {
      "cell_type": "code",
      "metadata": {
        "id": "kpTGoSrWPccu",
        "colab": {
          "base_uri": "https://localhost:8080/"
        },
        "outputId": "d3011e30-3614-4d7b-d9a1-1ab3b69ca07a"
      },
      "source": [
        "# join a list with newlines - linux style\n",
        "print(\"\\n\".join(['5', '10', '20']))"
      ],
      "execution_count": 2,
      "outputs": [
        {
          "output_type": "stream",
          "name": "stdout",
          "text": [
            "5\n",
            "10\n",
            "20\n"
          ]
        }
      ]
    },
    {
      "cell_type": "markdown",
      "metadata": {
        "id": "nFNOmw3KPn2M"
      },
      "source": [
        "## Some more list methods"
      ]
    },
    {
      "cell_type": "code",
      "metadata": {
        "colab": {
          "base_uri": "https://localhost:8080/"
        },
        "id": "8BdcgFVTPuqu",
        "outputId": "e498d62e-ed16-4aa6-f3ea-400c093becf0"
      },
      "source": [
        "l = [1, 2, 3, 4]\n",
        "l.reverse()\n",
        "l"
      ],
      "execution_count": 7,
      "outputs": [
        {
          "output_type": "execute_result",
          "data": {
            "text/plain": [
              "[4, 3, 2, 1]"
            ]
          },
          "metadata": {},
          "execution_count": 7
        }
      ]
    },
    {
      "cell_type": "code",
      "metadata": {
        "colab": {
          "base_uri": "https://localhost:8080/"
        },
        "id": "NOeWoR9r2c9K",
        "outputId": "9c9e53f2-7830-48e9-9af9-b7d615004d86"
      },
      "source": [
        "ll = [1, 2, 3]\n",
        "print(f\"Initial list: {ll}\")\n",
        "\n",
        "ll.append(5)\n",
        "print(f\"After append: {ll}\")\n",
        "\n",
        "popped_item = ll.pop()  # remove last element\n",
        "print(f\"After pop: {ll}\")\n",
        "print(f\"Popped item: {popped_item}\")"
      ],
      "execution_count": 5,
      "outputs": [
        {
          "output_type": "stream",
          "name": "stdout",
          "text": [
            "Initial list: [1, 2, 3]\n",
            "After append: [1, 2, 3, 5]\n",
            "After pop: [1, 2, 3]\n",
            "Popped item: 5\n"
          ]
        }
      ]
    },
    {
      "cell_type": "code",
      "metadata": {
        "colab": {
          "base_uri": "https://localhost:8080/"
        },
        "id": "opT1AMxSPzYg",
        "outputId": "7669e92f-5b59-49ab-be23-77dcce945f56"
      },
      "source": [
        "# insert to a specific position\n",
        "l.insert(1, 'Hello')\n",
        "print(l)"
      ],
      "execution_count": 8,
      "outputs": [
        {
          "output_type": "stream",
          "name": "stdout",
          "text": [
            "[4, 'Hello', 3, 2, 1]\n"
          ]
        }
      ]
    },
    {
      "cell_type": "code",
      "metadata": {
        "colab": {
          "base_uri": "https://localhost:8080/"
        },
        "id": "WkrFzKtbUr8L",
        "outputId": "b374261d-25f0-4b4c-f5b7-5748c7bae692"
      },
      "source": [
        "# list of lists:\n",
        "\n",
        "matrix = [\n",
        "          [1, 2, 3],\n",
        "          [4, 5, 6],\n",
        "          [7, 8, 9]\n",
        "]\n",
        "\n",
        "matrix[0][2]"
      ],
      "execution_count": null,
      "outputs": [
        {
          "output_type": "execute_result",
          "data": {
            "text/plain": [
              "3"
            ]
          },
          "metadata": {},
          "execution_count": 53
        }
      ]
    },
    {
      "cell_type": "code",
      "metadata": {
        "colab": {
          "base_uri": "https://localhost:8080/"
        },
        "id": "437UKU6nP2ba",
        "outputId": "a4e1a75c-253e-47cd-986f-25ec17a855c0"
      },
      "source": [
        "# iterate over list of lists\n",
        "\n",
        "\n",
        "# row_wise\n",
        "for row in matrix:\n",
        "  for val in row:\n",
        "    print(val)\n",
        "  print()\n",
        "\n",
        "print('----------')\n",
        "\n",
        "# column_wise\n",
        "column_len = len(matrix[0])\n",
        "row_len = len(matrix)\n",
        "\n",
        "for i in range(column_len):\n",
        "  for j in range(row_len):\n",
        "    print(matrix[j][i])\n",
        "  \n",
        "  print()"
      ],
      "execution_count": null,
      "outputs": [
        {
          "output_type": "stream",
          "name": "stdout",
          "text": [
            "1\n",
            "2\n",
            "3\n",
            "\n",
            "4\n",
            "5\n",
            "6\n",
            "\n",
            "7\n",
            "8\n",
            "9\n",
            "\n",
            "----------\n",
            "1\n",
            "4\n",
            "7\n",
            "\n",
            "2\n",
            "5\n",
            "8\n",
            "\n",
            "3\n",
            "6\n",
            "9\n",
            "\n"
          ]
        }
      ]
    },
    {
      "cell_type": "code",
      "metadata": {
        "colab": {
          "base_uri": "https://localhost:8080/"
        },
        "id": "sTIVlFv43sZb",
        "outputId": "f2c369e7-ae8a-4a1d-918a-2d7e22ce23d5"
      },
      "source": [
        "seznam = ['a','b','c']\n",
        "\n",
        "for i in range(len(seznam)):\n",
        "  print(i)\n",
        "  print(seznam[i])\n",
        "\n",
        "print('----')\n",
        "for val in seznam:\n",
        "  print(val)\n",
        "\n",
        "print('----')\n",
        "\n",
        "# returns both indices and elements (nice! :) )\n",
        "for i, val in enumerate(seznam):\n",
        "  print(i, val)\n",
        "\n",
        "  i"
      ],
      "execution_count": null,
      "outputs": [
        {
          "output_type": "stream",
          "name": "stdout",
          "text": [
            "0\n",
            "a\n",
            "1\n",
            "b\n",
            "2\n",
            "c\n",
            "----\n",
            "a\n",
            "b\n",
            "c\n",
            "----\n",
            "0 a\n",
            "1 b\n",
            "2 c\n"
          ]
        }
      ]
    },
    {
      "cell_type": "markdown",
      "metadata": {
        "id": "Fb-o7Yg7P6BU"
      },
      "source": [
        "## Functions"
      ]
    },
    {
      "cell_type": "code",
      "metadata": {
        "colab": {
          "base_uri": "https://localhost:8080/"
        },
        "id": "U_H1M7BbP79C",
        "outputId": "0f6296e8-36ba-417f-a9f1-18b48aec9247"
      },
      "source": [
        "matrix = [\n",
        "          [1, 2, 3],\n",
        "          [4, 5, 6],\n",
        "          [7, 8, 9]\n",
        "]\n",
        "\n",
        "# the function is defined HERE\n",
        "def add_1_to_row(row):\n",
        "  res = []\n",
        "  for val in row:\n",
        "    res.append(val + 1)\n",
        "\n",
        "  return res\n",
        "\n",
        "new_matrix = []\n",
        "for row in matrix:\n",
        "  new_row = add_1_to_row(row)  # the function is called HERE\n",
        "  new_matrix.append(new_row)\n",
        "\n",
        "print(new_matrix)"
      ],
      "execution_count": null,
      "outputs": [
        {
          "output_type": "stream",
          "name": "stdout",
          "text": [
            "[[2, 3, 4], [5, 6, 7], [8, 9, 10]]\n"
          ]
        }
      ]
    },
    {
      "cell_type": "code",
      "metadata": {
        "id": "jH0nKwO65RV-"
      },
      "source": [
        "# this is how the range method could look like\n",
        "def our_range(a, b):\n",
        "  pass  # some magic\n",
        "\n",
        "our_range(0, 50)"
      ],
      "execution_count": null,
      "outputs": []
    },
    {
      "cell_type": "code",
      "metadata": {
        "colab": {
          "base_uri": "https://localhost:8080/"
        },
        "id": "RkEX3l1CQgcI",
        "outputId": "1fc1ac61-5dc5-4c0c-ccfe-26cbbbc51892"
      },
      "source": [
        "# function with default values of arguments - to_add is a keyword argument\n",
        "\n",
        "def with_def(a, to_add=1):\n",
        "  return a + to_add\n",
        "\n",
        "# if I don't pass the argument there, the default value is used\n",
        "print(f\"Add default to 5: {with_def(5)}\")\n",
        "\n",
        "print(f\"Add two to 5: {with_def(5, to_add=2)}\")"
      ],
      "execution_count": null,
      "outputs": [
        {
          "output_type": "stream",
          "name": "stdout",
          "text": [
            "Add default to 5: 6\n",
            "Add two to 5: 7\n"
          ]
        }
      ]
    },
    {
      "cell_type": "code",
      "metadata": {
        "id": "YqPeSQ3FQxXE"
      },
      "source": [
        "def with_def(a, to_add=1):\n",
        "  return a + to_add\n",
        "\n",
        "# DON'T CALL IT LIKE THIS\n",
        "result = with_def(5, 2)\n",
        "print(result)\n",
        "\n",
        "# if you rewrite the function like this:\n",
        "def with_def(a, b=2, to_add=1):\n",
        "  return a + to_add\n",
        "\n",
        "# the function will stop working!!!\n",
        "result = with_def(5, 2)\n",
        "print(result)\n",
        "\n",
        "# so ALWAYS specify the name of the keyword argument\n",
        "result = with_def(5, to_add=2)\n",
        "print(result)"
      ],
      "execution_count": null,
      "outputs": []
    }
  ]
}