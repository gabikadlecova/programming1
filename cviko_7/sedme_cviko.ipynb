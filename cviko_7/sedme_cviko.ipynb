{
  "nbformat": 4,
  "nbformat_minor": 0,
  "metadata": {
    "colab": {
      "name": "sedme_cviko.ipynb",
      "provenance": [],
      "collapsed_sections": [
        "pEtd7y3seSSL",
        "xDQejtz1k1Y-",
        "UZffCiv0nSS1"
      ]
    },
    "kernelspec": {
      "name": "python3",
      "display_name": "Python 3"
    },
    "language_info": {
      "name": "python"
    }
  },
  "cells": [
    {
      "cell_type": "markdown",
      "metadata": {
        "id": "upIt7QZHcndW"
      },
      "source": [
        "## Comparison by reference vs value"
      ]
    },
    {
      "cell_type": "code",
      "metadata": {
        "colab": {
          "base_uri": "https://localhost:8080/"
        },
        "id": "am-_U-jzdhLY",
        "outputId": "c60a8aa4-8c2e-4f4f-995f-ebad1c00f552"
      },
      "source": [
        "list_1 = [1, 2, 3]\n",
        "list_2 = list_1\n",
        "\n",
        "print(\"These lists are the same:\")\n",
        "print(\"Value:\", list_1 == list_2)\n",
        "print(\"Reference:\", list_1 is list_2)\n",
        "\n",
        "print(\"\\nAnd if a change a value in one of them, the other changes too:\")\n",
        "list_2[1] = 555\n",
        "print(list_1, list_2)\n",
        "print(\"Value:\", list_1 == list_2)\n",
        "print(\"Reference:\", list_1 is list_2)"
      ],
      "execution_count": 11,
      "outputs": [
        {
          "output_type": "stream",
          "name": "stdout",
          "text": [
            "These lists are the same:\n",
            "Value: True\n",
            "Reference: True\n",
            "\n",
            "And if a change a value in one of them, the other changes too:\n",
            "[1, 555, 3] [1, 555, 3]\n",
            "Value: True\n",
            "Reference: True\n"
          ]
        }
      ]
    },
    {
      "cell_type": "code",
      "metadata": {
        "colab": {
          "base_uri": "https://localhost:8080/"
        },
        "id": "aia20TGVWGLc",
        "outputId": "950a9a9e-101b-4458-cf31-b74783873f19"
      },
      "source": [
        "list_1 = [1, 2, 3]\n",
        "list_2 = [1, 2, 3]\n",
        "\n",
        "print(\"The lists have the same values:\")\n",
        "print(\"Value:\", list_1 == list_2)\n",
        "print(\"...but they are not the same list\")\n",
        "print(\"Reference:\", list_1 is list_2)\n",
        "\n",
        "print(\"\\nAnd if a change a value in one of them, the other stays the same:\")\n",
        "list_2[1] = 555\n",
        "print(list_1, list_2)\n",
        "print(\"Value:\", list_1 == list_2)\n",
        "print(\"Reference:\", list_1 is list_2)"
      ],
      "execution_count": 12,
      "outputs": [
        {
          "output_type": "stream",
          "name": "stdout",
          "text": [
            "The lists have the same values:\n",
            "Value: True\n",
            "...but they are not the same list\n",
            "Reference: False\n",
            "\n",
            "And if a change a value in one of them, the other stays the same:\n",
            "[1, 2, 3] [1, 555, 3]\n",
            "Value: False\n",
            "Reference: False\n"
          ]
        }
      ]
    },
    {
      "cell_type": "markdown",
      "metadata": {
        "id": "pEtd7y3seSSL"
      },
      "source": [
        "### Advanced"
      ]
    },
    {
      "cell_type": "code",
      "metadata": {
        "id": "yNqiQaDxdaZm"
      },
      "source": [
        "class SomeClass:\n",
        "  def __init__(self, value):\n",
        "    self.value = value\n",
        "\n",
        "  def __str__(self):\n",
        "    return f\"Some class with value {self.value}\""
      ],
      "execution_count": 13,
      "outputs": []
    },
    {
      "cell_type": "code",
      "metadata": {
        "colab": {
          "base_uri": "https://localhost:8080/"
        },
        "id": "mfEBW-bMeQht",
        "outputId": "187658d9-19de-4989-c042-9adb668c6463"
      },
      "source": [
        "cls_1 = SomeClass(5)\n",
        "cls_2 = SomeClass(5)\n",
        "\n",
        "print(\"By default, objects are compared by reference\")\n",
        "cls_1 == cls_2"
      ],
      "execution_count": 14,
      "outputs": [
        {
          "output_type": "stream",
          "name": "stdout",
          "text": [
            "By default, objects are compared by reference\n"
          ]
        },
        {
          "output_type": "execute_result",
          "data": {
            "text/plain": [
              "False"
            ]
          },
          "metadata": {},
          "execution_count": 14
        }
      ]
    },
    {
      "cell_type": "code",
      "metadata": {
        "colab": {
          "base_uri": "https://localhost:8080/"
        },
        "id": "c6VETetQeiCS",
        "outputId": "a232ea09-8db9-42da-e254-66e4692be776"
      },
      "source": [
        "print(\"However, we can define the __eq__ method to compare it by some other rule.\")\n",
        "\n",
        "class SomeClass:\n",
        "  def __init__(self, value):\n",
        "    self.value = value\n",
        "\n",
        "  def __str__(self):\n",
        "    return f\"Some class with value {self.value}\"\n",
        "\n",
        "  def __eq__(self, other):\n",
        "    if not isinstance(other, SomeClass):\n",
        "      return False\n",
        "\n",
        "    return self.value == other.value\n",
        "\n",
        "cls_1 = SomeClass(5)\n",
        "cls_2 = SomeClass(5)\n",
        "\n",
        "print(\"\\nNow it works as expected.\")\n",
        "print(\"Value:\", cls_1 == cls_2)\n",
        "print(\"Reference:\", cls_1 is cls_2)\n",
        "print(\"SomeClass == 5:\", cls_1 == 5)"
      ],
      "execution_count": 17,
      "outputs": [
        {
          "output_type": "stream",
          "name": "stdout",
          "text": [
            "However, we can define the __eq__ method to compare it by some other rule.\n",
            "\n",
            "Now it works as expected.\n",
            "Value: True\n",
            "Reference: False\n",
            "SomeClass == 5: False\n"
          ]
        }
      ]
    },
    {
      "cell_type": "markdown",
      "metadata": {
        "id": "vG0nzJHogjp3"
      },
      "source": [
        "## Python collections\n",
        "aka list, dict, tuple, set"
      ]
    },
    {
      "cell_type": "markdown",
      "metadata": {
        "id": "C1rv1DegkzMU"
      },
      "source": [
        "### Dict"
      ]
    },
    {
      "cell_type": "code",
      "metadata": {
        "colab": {
          "base_uri": "https://localhost:8080/"
        },
        "id": "h1BvTPkFfTg9",
        "outputId": "711a007f-2126-4268-b497-12e7ad128e42"
      },
      "source": [
        "print(\"Dict holds key-value pairs\")\n",
        "\n",
        "prices = {\n",
        "    'student': 50,\n",
        "    'senior': 50,\n",
        "    'kid': 10,\n",
        "    'adult': 100\n",
        "}\n",
        "\n",
        "prices['student']"
      ],
      "execution_count": 18,
      "outputs": [
        {
          "output_type": "stream",
          "name": "stdout",
          "text": [
            "Dict holds key-value pairs\n"
          ]
        },
        {
          "output_type": "execute_result",
          "data": {
            "text/plain": [
              "50"
            ]
          },
          "metadata": {},
          "execution_count": 18
        }
      ]
    },
    {
      "cell_type": "code",
      "metadata": {
        "colab": {
          "base_uri": "https://localhost:8080/"
        },
        "id": "5aD5sVPrfgVw",
        "outputId": "c480d523-432a-4ff5-ce81-f8c3e3388e7b"
      },
      "source": [
        "# it's one of the most useful things in python imo\n",
        "\n",
        "counts = {}\n",
        "input = \"Some string I want to analyze.\"\n",
        "\n",
        "for char in input.lower():\n",
        "  if char not in counts:\n",
        "    counts[char] = 0\n",
        "\n",
        "  counts[char] += 1\n",
        "\n",
        "print(counts)"
      ],
      "execution_count": 24,
      "outputs": [
        {
          "output_type": "stream",
          "name": "stdout",
          "text": [
            "{'s': 2, 'o': 2, 'm': 1, 'e': 2, ' ': 5, 't': 3, 'r': 1, 'i': 2, 'n': 3, 'g': 1, 'w': 1, 'a': 3, 'l': 1, 'y': 1, 'z': 1, '.': 1}\n"
          ]
        }
      ]
    },
    {
      "cell_type": "code",
      "metadata": {
        "colab": {
          "base_uri": "https://localhost:8080/"
        },
        "id": "s8trvgNykK7M",
        "outputId": "c2cd3b0a-4482-4b20-ebb1-96eac5cbae9a"
      },
      "source": [
        "# iterate over dict: methods .items(), .keys(), .values()\n",
        "\n",
        "for key, val in counts.items():\n",
        "  print(key, val, end=' - ')\n",
        "\n",
        "print()\n",
        "\n",
        "for key in counts.keys():\n",
        "  print(key, end='-')\n",
        "\n",
        "print()\n",
        "\n",
        "for val in counts.values():\n",
        "  print(val, end='-')"
      ],
      "execution_count": 37,
      "outputs": [
        {
          "output_type": "stream",
          "name": "stdout",
          "text": [
            "s 2 - o 2 - m 1 - e 2 -   5 - t 3 - r 1 - i 2 - n 3 - g 1 - w 1 - a 3 - l 1 - y 1 - z 1 - . 1 - \n",
            "s-o-m-e- -t-r-i-n-g-w-a-l-y-z-.-\n",
            "2-2-1-2-5-3-1-2-3-1-1-3-1-1-1-1-"
          ]
        }
      ]
    },
    {
      "cell_type": "markdown",
      "metadata": {
        "id": "4awuKZyvk3Hr"
      },
      "source": [
        "### tuple"
      ]
    },
    {
      "cell_type": "code",
      "metadata": {
        "colab": {
          "base_uri": "https://localhost:8080/"
        },
        "id": "KUP31Xrak0ys",
        "outputId": "d4013ccf-d585-438c-8b3f-faa62dc885bf"
      },
      "source": [
        "# we've actually seen tuples!\n",
        "\n",
        "a_tuple = 5, 6\n",
        "print(a_tuple)\n",
        "\n",
        "a_tuple[0]"
      ],
      "execution_count": 39,
      "outputs": [
        {
          "output_type": "stream",
          "name": "stdout",
          "text": [
            "(5, 6)\n"
          ]
        },
        {
          "output_type": "execute_result",
          "data": {
            "text/plain": [
              "5"
            ]
          },
          "metadata": {},
          "execution_count": 39
        }
      ]
    },
    {
      "cell_type": "markdown",
      "metadata": {
        "id": "N_mERNy8lHlW"
      },
      "source": [
        "Tuple behaves like a list, but has some differences\n",
        "- tuple is immutable - you CAN'T change its values once created\n",
        "- list is mutable - you can change its values once created"
      ]
    },
    {
      "cell_type": "code",
      "metadata": {
        "colab": {
          "base_uri": "https://localhost:8080/",
          "height": 163
        },
        "id": "XxSt5acelCM_",
        "outputId": "4c2af3b6-1b01-4170-bba7-9dd65fabc769"
      },
      "source": [
        "# similarly, you can't append to it\n",
        "a_tuple[0] = 10"
      ],
      "execution_count": 40,
      "outputs": [
        {
          "output_type": "error",
          "ename": "TypeError",
          "evalue": "ignored",
          "traceback": [
            "\u001b[0;31m---------------------------------------------------------------------------\u001b[0m",
            "\u001b[0;31mTypeError\u001b[0m                                 Traceback (most recent call last)",
            "\u001b[0;32m<ipython-input-40-81d27379a41d>\u001b[0m in \u001b[0;36m<module>\u001b[0;34m()\u001b[0m\n\u001b[0;32m----> 1\u001b[0;31m \u001b[0ma_tuple\u001b[0m\u001b[0;34m[\u001b[0m\u001b[0;36m0\u001b[0m\u001b[0;34m]\u001b[0m \u001b[0;34m=\u001b[0m \u001b[0;36m10\u001b[0m\u001b[0;34m\u001b[0m\u001b[0;34m\u001b[0m\u001b[0m\n\u001b[0m",
            "\u001b[0;31mTypeError\u001b[0m: 'tuple' object does not support item assignment"
          ]
        }
      ]
    },
    {
      "cell_type": "markdown",
      "metadata": {
        "id": "9fe-3naglfSv"
      },
      "source": [
        "Why does it matter? One of the reasons is that mutable things can't be dict keys"
      ]
    },
    {
      "cell_type": "code",
      "metadata": {
        "colab": {
          "base_uri": "https://localhost:8080/",
          "height": 197
        },
        "id": "fKnYWiV-lUkz",
        "outputId": "fdc64c95-f133-4178-e374-e96a401890a8"
      },
      "source": [
        "some_dict = {}\n",
        "\n",
        "some_dict[[1, 2, 3]] = 5"
      ],
      "execution_count": 44,
      "outputs": [
        {
          "output_type": "error",
          "ename": "TypeError",
          "evalue": "ignored",
          "traceback": [
            "\u001b[0;31m---------------------------------------------------------------------------\u001b[0m",
            "\u001b[0;31mTypeError\u001b[0m                                 Traceback (most recent call last)",
            "\u001b[0;32m<ipython-input-44-d4ee2afece8a>\u001b[0m in \u001b[0;36m<module>\u001b[0;34m()\u001b[0m\n\u001b[1;32m      1\u001b[0m \u001b[0msome_dict\u001b[0m \u001b[0;34m=\u001b[0m \u001b[0;34m{\u001b[0m\u001b[0;34m}\u001b[0m\u001b[0;34m\u001b[0m\u001b[0;34m\u001b[0m\u001b[0m\n\u001b[1;32m      2\u001b[0m \u001b[0;34m\u001b[0m\u001b[0m\n\u001b[0;32m----> 3\u001b[0;31m \u001b[0msome_dict\u001b[0m\u001b[0;34m[\u001b[0m\u001b[0;34m[\u001b[0m\u001b[0;36m1\u001b[0m\u001b[0;34m,\u001b[0m \u001b[0;36m2\u001b[0m\u001b[0;34m,\u001b[0m \u001b[0;36m3\u001b[0m\u001b[0;34m]\u001b[0m\u001b[0;34m]\u001b[0m \u001b[0;34m=\u001b[0m \u001b[0;36m5\u001b[0m\u001b[0;34m\u001b[0m\u001b[0;34m\u001b[0m\u001b[0m\n\u001b[0m",
            "\u001b[0;31mTypeError\u001b[0m: unhashable type: 'list'"
          ]
        }
      ]
    },
    {
      "cell_type": "code",
      "metadata": {
        "colab": {
          "base_uri": "https://localhost:8080/"
        },
        "id": "mbaIIH5ultrP",
        "outputId": "5d19f345-3cfd-496a-c7d8-9ea32f72f53f"
      },
      "source": [
        "some_dict[(1, 2, 3)] = 'Works!'\n",
        "some_dict"
      ],
      "execution_count": 46,
      "outputs": [
        {
          "output_type": "execute_result",
          "data": {
            "text/plain": [
              "{(1, 2, 3): 'Works!'}"
            ]
          },
          "metadata": {},
          "execution_count": 46
        }
      ]
    },
    {
      "cell_type": "markdown",
      "metadata": {
        "id": "xDQejtz1k1Y-"
      },
      "source": [
        "### set"
      ]
    },
    {
      "cell_type": "code",
      "metadata": {
        "colab": {
          "base_uri": "https://localhost:8080/"
        },
        "id": "sAYYTGk-inU4",
        "outputId": "c5f83026-03a9-480f-afc1-8ac60db4d8fc"
      },
      "source": [
        "# set\n",
        "a = set()  # empty set\n",
        "a = {1, 2, 3}  # set with some values\n",
        "\n",
        "# only unique values are added\n",
        "a.add(2)\n",
        "print(a)\n",
        "a.add(4)\n",
        "print(a)\n",
        "\n",
        "# this is faster than \"2 in [1, 2, 3, 4]\"\n",
        "2 in a"
      ],
      "execution_count": 26,
      "outputs": [
        {
          "output_type": "stream",
          "name": "stdout",
          "text": [
            "{1, 2, 3}\n",
            "{1, 2, 3, 4}\n"
          ]
        },
        {
          "output_type": "execute_result",
          "data": {
            "text/plain": [
              "True"
            ]
          },
          "metadata": {},
          "execution_count": 26
        }
      ]
    },
    {
      "cell_type": "code",
      "metadata": {
        "colab": {
          "base_uri": "https://localhost:8080/"
        },
        "id": "BV2rUeSQjpm8",
        "outputId": "837eac30-203f-4521-98b7-1e8e68f9d16d"
      },
      "source": [
        "b = {2, 3, 5, 6}\n",
        "print(\"a, b:\", a, b)\n",
        "print()\n",
        "\n",
        "print(\"Intersection:\", a.intersection(b))\n",
        "print(\"Union:\", a.union(b))\n",
        "print(\"Difference (a \\ b):\", a.difference(b))\n",
        "print(\"Difference (b \\ a):\", b.difference(a))"
      ],
      "execution_count": 32,
      "outputs": [
        {
          "output_type": "stream",
          "name": "stdout",
          "text": [
            "a, b: {1, 2, 3, 4} {2, 3, 5, 6}\n",
            "\n",
            "Intersection: {2, 3}\n",
            "Union: {1, 2, 3, 4, 5, 6}\n",
            "Difference (a \\ b): {1, 4}\n",
            "Difference (b \\ a): {5, 6}\n"
          ]
        }
      ]
    },
    {
      "cell_type": "markdown",
      "metadata": {
        "id": "DI4Mi7XliFvo"
      },
      "source": [
        "### Attention to list/dict mutability!\n",
        "\n",
        "DON'T use lists/dicts/classes as keyword arguments (unless you like bugs)"
      ]
    },
    {
      "cell_type": "code",
      "metadata": {
        "colab": {
          "base_uri": "https://localhost:8080/"
        },
        "id": "oQ1Rt-8LiHl2",
        "outputId": "4967b194-af91-4cbe-bbcb-8eef12a50eca"
      },
      "source": [
        "def some_function(default_list=[]):\n",
        "  default_list.append(5)\n",
        "  print(default_list)\n",
        "\n",
        "# !!!\n",
        "for _ in range(5):\n",
        "  some_function()"
      ],
      "execution_count": 47,
      "outputs": [
        {
          "output_type": "stream",
          "name": "stdout",
          "text": [
            "[5]\n",
            "[5, 5]\n",
            "[5, 5, 5]\n",
            "[5, 5, 5, 5]\n",
            "[5, 5, 5, 5, 5]\n"
          ]
        }
      ]
    },
    {
      "cell_type": "code",
      "metadata": {
        "colab": {
          "base_uri": "https://localhost:8080/"
        },
        "id": "XdUFh8iPmVmu",
        "outputId": "c6531047-3cd7-4250-989b-f9df3a8cbd4a"
      },
      "source": [
        "# correct way\n",
        "\n",
        "def some_function(some_list=None):\n",
        "  if some_list is None:\n",
        "    some_list = []\n",
        "  \n",
        "  some_list.append(5)\n",
        "  return some_list\n",
        "\n",
        "# better\n",
        "print(\"Default list:\")\n",
        "for _ in range(5):\n",
        "  print(some_function())\n",
        "\n",
        "# don't confuse with local variables, i.e. not arguments\n",
        "print(\"Local list:\")\n",
        "our_list = []\n",
        "\n",
        "for _ in range(5):\n",
        "  print(some_function(some_list=our_list))"
      ],
      "execution_count": 51,
      "outputs": [
        {
          "output_type": "stream",
          "name": "stdout",
          "text": [
            "Default list:\n",
            "[5]\n",
            "[5]\n",
            "[5]\n",
            "[5]\n",
            "[5]\n",
            "Local list:\n",
            "[5]\n",
            "[5, 5]\n",
            "[5, 5, 5]\n",
            "[5, 5, 5, 5]\n",
            "[5, 5, 5, 5, 5]\n"
          ]
        }
      ]
    },
    {
      "cell_type": "markdown",
      "metadata": {
        "id": "UZffCiv0nSS1"
      },
      "source": [
        "## Advanced list comprehensions + dict/set comprehensions"
      ]
    },
    {
      "cell_type": "code",
      "metadata": {
        "colab": {
          "base_uri": "https://localhost:8080/"
        },
        "id": "u8kCwWz6nZhb",
        "outputId": "51a84f69-2b30-48de-c230-d20979e31d9c"
      },
      "source": [
        "# what we know:\n",
        "vals = [i for i in range(5)]\n",
        "print(vals)"
      ],
      "execution_count": 52,
      "outputs": [
        {
          "output_type": "stream",
          "name": "stdout",
          "text": [
            "[0, 1, 2, 3, 4]\n"
          ]
        }
      ]
    },
    {
      "cell_type": "code",
      "metadata": {
        "colab": {
          "base_uri": "https://localhost:8080/"
        },
        "id": "v5aehrv9nfoA",
        "outputId": "431230db-ad4a-4407-b39c-69ac9d41a52c"
      },
      "source": [
        "# we can add conditions!\n",
        "\n",
        "vals = [i for i in range(50) if (i % 5 == 0) or (i % 7 == 0)]\n",
        "print(vals)"
      ],
      "execution_count": 53,
      "outputs": [
        {
          "output_type": "stream",
          "name": "stdout",
          "text": [
            "[0, 5, 7, 10, 14, 15, 20, 21, 25, 28, 30, 35, 40, 42, 45, 49]\n"
          ]
        }
      ]
    },
    {
      "cell_type": "code",
      "metadata": {
        "colab": {
          "base_uri": "https://localhost:8080/"
        },
        "id": "k0ymL11Rnr91",
        "outputId": "403f7d91-c760-4cc7-b7e9-299bc993b686"
      },
      "source": [
        "# dict comprehensions\n",
        "\n",
        "some_list = [i + 5 for i in range(10)]\n",
        "\n",
        "dict_with_inds = {i: val for i, val in enumerate(some_list)}\n",
        "print(dict_with_inds)"
      ],
      "execution_count": 56,
      "outputs": [
        {
          "output_type": "stream",
          "name": "stdout",
          "text": [
            "{0: 5, 1: 6, 2: 7, 3: 8, 4: 9, 5: 10, 6: 11, 7: 12, 8: 13, 9: 14}\n"
          ]
        }
      ]
    },
    {
      "cell_type": "code",
      "metadata": {
        "colab": {
          "base_uri": "https://localhost:8080/"
        },
        "id": "we3sNwxrn_AE",
        "outputId": "5878d827-6350-4fe5-9b57-a25dca06afe5"
      },
      "source": [
        "# set comprehensions\n",
        "\n",
        "list_with_duplicates = [5, 5, 2, 1, 5, 10, 2, 3]\n",
        "\n",
        "some_set = {val for val in list_with_duplicates}\n",
        "print(some_set)"
      ],
      "execution_count": 58,
      "outputs": [
        {
          "output_type": "stream",
          "name": "stdout",
          "text": [
            "{1, 2, 3, 5, 10}\n"
          ]
        }
      ]
    },
    {
      "cell_type": "markdown",
      "metadata": {
        "id": "pCuvXgRifg8p"
      },
      "source": [
        "## Other topics: Global and while-else\n",
        "\n",
        "https://ksvi.mff.cuni.cz/~dingle/2021-2/prog_1/notes_5.html\n",
        "\n",
        "- global - **don't** use it. It's a good way how to generate hard to find errors, and you can *always* write it without using it. So just **don't**.\n",
        "- while followed by else - might be useful, I never used it"
      ]
    },
    {
      "cell_type": "code",
      "metadata": {
        "id": "o21NY4gCnom8"
      },
      "source": [
        ""
      ],
      "execution_count": null,
      "outputs": []
    }
  ]
}